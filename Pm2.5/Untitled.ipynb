{
 "cells": [
  {
   "cell_type": "code",
   "execution_count": 1,
   "id": "6bd75128",
   "metadata": {},
   "outputs": [],
   "source": [
    "import pandas as pd\n",
    "import numpy as np\n",
    "from datetime import datetime\n",
    "from matplotlib import pyplot\n",
    "import matplotlib.pyplot as plt"
   ]
  },
  {
   "cell_type": "markdown",
   "id": "6a81b804",
   "metadata": {},
   "source": [
    "The data for each major cities is based on the average (median) of several stations. The data set provides min, max, median and standard deviation for each of the air pollutant species (PM2.5,PM10, Ozone ...) as well as meteorological data (Wind, Temperature, ...). All air pollutant species are converted to the US EPA standard (i.e. no raw concentrations). All dates are UTC based. The count column is the number of samples used for calculating the median and standard deviation.\n",
    "\n"
   ]
  },
  {
   "cell_type": "code",
   "execution_count": 2,
   "id": "0b8f894b",
   "metadata": {},
   "outputs": [],
   "source": [
    "dfQ1= pd.read_csv('waqi-covid19-airqualitydata-2020Q1.csv',skiprows=4)\n",
    "dfQ2= pd.read_csv('waqi-covid19-airqualitydata-2020Q2.csv',skiprows=4)\n",
    "dfQ3= pd.read_csv('waqi-covid19-airqualitydata-2020Q3.csv',skiprows=4)\n",
    "dfQ4= pd.read_csv('waqi-covid19-airqualitydata-2020Q4.csv',skiprows=4)\n",
    "dfY21= pd.read_csv('waqi-covid19-airqualitydata-2020.csv',skiprows=4)\n",
    "df = pd.concat([dfQ1,dfQ2,dfQ3,dfQ4,dfY21], axis = 0)"
   ]
  },
  {
   "cell_type": "code",
   "execution_count": 3,
   "id": "5976457b",
   "metadata": {},
   "outputs": [
    {
     "data": {
      "text/html": [
       "<div>\n",
       "<style scoped>\n",
       "    .dataframe tbody tr th:only-of-type {\n",
       "        vertical-align: middle;\n",
       "    }\n",
       "\n",
       "    .dataframe tbody tr th {\n",
       "        vertical-align: top;\n",
       "    }\n",
       "\n",
       "    .dataframe thead th {\n",
       "        text-align: right;\n",
       "    }\n",
       "</style>\n",
       "<table border=\"1\" class=\"dataframe\">\n",
       "  <thead>\n",
       "    <tr style=\"text-align: right;\">\n",
       "      <th></th>\n",
       "      <th>Date</th>\n",
       "      <th>Country</th>\n",
       "      <th>City</th>\n",
       "      <th>Specie</th>\n",
       "      <th>count</th>\n",
       "      <th>min</th>\n",
       "      <th>max</th>\n",
       "      <th>median</th>\n",
       "      <th>variance</th>\n",
       "    </tr>\n",
       "  </thead>\n",
       "  <tbody>\n",
       "    <tr>\n",
       "      <th>329551</th>\n",
       "      <td>2019-12-30</td>\n",
       "      <td>NP</td>\n",
       "      <td>Kathmandu</td>\n",
       "      <td>pm1</td>\n",
       "      <td>74</td>\n",
       "      <td>55.0</td>\n",
       "      <td>223.0</td>\n",
       "      <td>148.0</td>\n",
       "      <td>16086.80</td>\n",
       "    </tr>\n",
       "    <tr>\n",
       "      <th>329323</th>\n",
       "      <td>2019-12-30</td>\n",
       "      <td>NP</td>\n",
       "      <td>Kathmandu</td>\n",
       "      <td>humidity</td>\n",
       "      <td>10</td>\n",
       "      <td>60.0</td>\n",
       "      <td>100.0</td>\n",
       "      <td>93.0</td>\n",
       "      <td>1467.67</td>\n",
       "    </tr>\n",
       "    <tr>\n",
       "      <th>329152</th>\n",
       "      <td>2019-12-30</td>\n",
       "      <td>NP</td>\n",
       "      <td>Kathmandu</td>\n",
       "      <td>wind-speed</td>\n",
       "      <td>4</td>\n",
       "      <td>0.4</td>\n",
       "      <td>0.9</td>\n",
       "      <td>0.5</td>\n",
       "      <td>0.47</td>\n",
       "    </tr>\n",
       "    <tr>\n",
       "      <th>329119</th>\n",
       "      <td>2019-12-30</td>\n",
       "      <td>NP</td>\n",
       "      <td>Kathmandu</td>\n",
       "      <td>pressure</td>\n",
       "      <td>10</td>\n",
       "      <td>1020.0</td>\n",
       "      <td>1024.0</td>\n",
       "      <td>1020.5</td>\n",
       "      <td>30.00</td>\n",
       "    </tr>\n",
       "    <tr>\n",
       "      <th>329330</th>\n",
       "      <td>2019-12-30</td>\n",
       "      <td>NP</td>\n",
       "      <td>Kathmandu</td>\n",
       "      <td>wind speed</td>\n",
       "      <td>4</td>\n",
       "      <td>0.4</td>\n",
       "      <td>0.9</td>\n",
       "      <td>0.5</td>\n",
       "      <td>0.47</td>\n",
       "    </tr>\n",
       "    <tr>\n",
       "      <th>...</th>\n",
       "      <td>...</td>\n",
       "      <td>...</td>\n",
       "      <td>...</td>\n",
       "      <td>...</td>\n",
       "      <td>...</td>\n",
       "      <td>...</td>\n",
       "      <td>...</td>\n",
       "      <td>...</td>\n",
       "      <td>...</td>\n",
       "    </tr>\n",
       "    <tr>\n",
       "      <th>15645</th>\n",
       "      <td>2021-12-23</td>\n",
       "      <td>NP</td>\n",
       "      <td>Kathmandu</td>\n",
       "      <td>humidity</td>\n",
       "      <td>52</td>\n",
       "      <td>31.0</td>\n",
       "      <td>100.0</td>\n",
       "      <td>88.8</td>\n",
       "      <td>4986.29</td>\n",
       "    </tr>\n",
       "    <tr>\n",
       "      <th>17046</th>\n",
       "      <td>2021-12-23</td>\n",
       "      <td>NP</td>\n",
       "      <td>Kathmandu</td>\n",
       "      <td>temperature</td>\n",
       "      <td>52</td>\n",
       "      <td>4.0</td>\n",
       "      <td>17.0</td>\n",
       "      <td>6.0</td>\n",
       "      <td>216.26</td>\n",
       "    </tr>\n",
       "    <tr>\n",
       "      <th>15351</th>\n",
       "      <td>2021-12-23</td>\n",
       "      <td>NP</td>\n",
       "      <td>Kathmandu</td>\n",
       "      <td>dew</td>\n",
       "      <td>36</td>\n",
       "      <td>0.0</td>\n",
       "      <td>5.0</td>\n",
       "      <td>4.0</td>\n",
       "      <td>24.83</td>\n",
       "    </tr>\n",
       "    <tr>\n",
       "      <th>15976</th>\n",
       "      <td>2021-12-23</td>\n",
       "      <td>NP</td>\n",
       "      <td>Kathmandu</td>\n",
       "      <td>pm25</td>\n",
       "      <td>56</td>\n",
       "      <td>117.0</td>\n",
       "      <td>257.0</td>\n",
       "      <td>159.0</td>\n",
       "      <td>5335.43</td>\n",
       "    </tr>\n",
       "    <tr>\n",
       "      <th>17687</th>\n",
       "      <td>2021-12-23</td>\n",
       "      <td>NP</td>\n",
       "      <td>Kathmandu</td>\n",
       "      <td>pm10</td>\n",
       "      <td>56</td>\n",
       "      <td>42.0</td>\n",
       "      <td>165.0</td>\n",
       "      <td>60.0</td>\n",
       "      <td>5819.26</td>\n",
       "    </tr>\n",
       "  </tbody>\n",
       "</table>\n",
       "<p>5576 rows × 9 columns</p>\n",
       "</div>"
      ],
      "text/plain": [
       "              Date Country       City       Specie  count     min     max  \\\n",
       "329551  2019-12-30      NP  Kathmandu          pm1     74    55.0   223.0   \n",
       "329323  2019-12-30      NP  Kathmandu     humidity     10    60.0   100.0   \n",
       "329152  2019-12-30      NP  Kathmandu   wind-speed      4     0.4     0.9   \n",
       "329119  2019-12-30      NP  Kathmandu     pressure     10  1020.0  1024.0   \n",
       "329330  2019-12-30      NP  Kathmandu   wind speed      4     0.4     0.9   \n",
       "...            ...     ...        ...          ...    ...     ...     ...   \n",
       "15645   2021-12-23      NP  Kathmandu     humidity     52    31.0   100.0   \n",
       "17046   2021-12-23      NP  Kathmandu  temperature     52     4.0    17.0   \n",
       "15351   2021-12-23      NP  Kathmandu          dew     36     0.0     5.0   \n",
       "15976   2021-12-23      NP  Kathmandu         pm25     56   117.0   257.0   \n",
       "17687   2021-12-23      NP  Kathmandu         pm10     56    42.0   165.0   \n",
       "\n",
       "        median  variance  \n",
       "329551   148.0  16086.80  \n",
       "329323    93.0   1467.67  \n",
       "329152     0.5      0.47  \n",
       "329119  1020.5     30.00  \n",
       "329330     0.5      0.47  \n",
       "...        ...       ...  \n",
       "15645     88.8   4986.29  \n",
       "17046      6.0    216.26  \n",
       "15351      4.0     24.83  \n",
       "15976    159.0   5335.43  \n",
       "17687     60.0   5819.26  \n",
       "\n",
       "[5576 rows x 9 columns]"
      ]
     },
     "execution_count": 3,
     "metadata": {},
     "output_type": "execute_result"
    }
   ],
   "source": [
    "df_Nepal = df[df['Country'] == 'NP']\n",
    "df_Nepal_Ktm = df_Nepal[df_Nepal['City']=='Kathmandu']\n",
    "df_Nepal_Ktm.sort_values(by='Date', ascending=True, inplace=False)"
   ]
  },
  {
   "cell_type": "code",
   "execution_count": 4,
   "id": "4d37b0de",
   "metadata": {},
   "outputs": [
    {
     "name": "stderr",
     "output_type": "stream",
     "text": [
      "C:\\Users\\hp\\anaconda3\\lib\\site-packages\\pandas\\util\\_decorators.py:311: SettingWithCopyWarning: \n",
      "A value is trying to be set on a copy of a slice from a DataFrame\n",
      "\n",
      "See the caveats in the documentation: https://pandas.pydata.org/pandas-docs/stable/user_guide/indexing.html#returning-a-view-versus-a-copy\n",
      "  return func(*args, **kwargs)\n"
     ]
    }
   ],
   "source": [
    "df_N=df_Nepal_Ktm[['Date','Specie','min']]\n",
    "df_N.reset_index(drop=True,inplace=True)\n",
    "df_N.sort_values(by='Date', ascending=True, inplace=True)\n"
   ]
  },
  {
   "cell_type": "code",
   "execution_count": 5,
   "id": "a0dbf8da",
   "metadata": {},
   "outputs": [
    {
     "data": {
      "text/html": [
       "<div>\n",
       "<style scoped>\n",
       "    .dataframe tbody tr th:only-of-type {\n",
       "        vertical-align: middle;\n",
       "    }\n",
       "\n",
       "    .dataframe tbody tr th {\n",
       "        vertical-align: top;\n",
       "    }\n",
       "\n",
       "    .dataframe thead th {\n",
       "        text-align: right;\n",
       "    }\n",
       "</style>\n",
       "<table border=\"1\" class=\"dataframe\">\n",
       "  <thead>\n",
       "    <tr style=\"text-align: right;\">\n",
       "      <th></th>\n",
       "      <th>Date</th>\n",
       "      <th>Specie</th>\n",
       "      <th>min</th>\n",
       "    </tr>\n",
       "  </thead>\n",
       "  <tbody>\n",
       "    <tr>\n",
       "      <th>680</th>\n",
       "      <td>2019-12-30</td>\n",
       "      <td>pm1</td>\n",
       "      <td>55.0</td>\n",
       "    </tr>\n",
       "    <tr>\n",
       "      <th>452</th>\n",
       "      <td>2019-12-30</td>\n",
       "      <td>humidity</td>\n",
       "      <td>60.0</td>\n",
       "    </tr>\n",
       "    <tr>\n",
       "      <th>281</th>\n",
       "      <td>2019-12-30</td>\n",
       "      <td>wind-speed</td>\n",
       "      <td>0.4</td>\n",
       "    </tr>\n",
       "    <tr>\n",
       "      <th>248</th>\n",
       "      <td>2019-12-30</td>\n",
       "      <td>pressure</td>\n",
       "      <td>1020.0</td>\n",
       "    </tr>\n",
       "    <tr>\n",
       "      <th>459</th>\n",
       "      <td>2019-12-30</td>\n",
       "      <td>wind speed</td>\n",
       "      <td>0.4</td>\n",
       "    </tr>\n",
       "    <tr>\n",
       "      <th>104</th>\n",
       "      <td>2019-12-30</td>\n",
       "      <td>pm10</td>\n",
       "      <td>1.0</td>\n",
       "    </tr>\n",
       "    <tr>\n",
       "      <th>44</th>\n",
       "      <td>2019-12-30</td>\n",
       "      <td>dew</td>\n",
       "      <td>2.0</td>\n",
       "    </tr>\n",
       "    <tr>\n",
       "      <th>360</th>\n",
       "      <td>2019-12-30</td>\n",
       "      <td>temperature</td>\n",
       "      <td>1.1</td>\n",
       "    </tr>\n",
       "    <tr>\n",
       "      <th>587</th>\n",
       "      <td>2019-12-30</td>\n",
       "      <td>pm25</td>\n",
       "      <td>55.0</td>\n",
       "    </tr>\n",
       "  </tbody>\n",
       "</table>\n",
       "</div>"
      ],
      "text/plain": [
       "           Date       Specie     min\n",
       "680  2019-12-30          pm1    55.0\n",
       "452  2019-12-30     humidity    60.0\n",
       "281  2019-12-30   wind-speed     0.4\n",
       "248  2019-12-30     pressure  1020.0\n",
       "459  2019-12-30   wind speed     0.4\n",
       "104  2019-12-30         pm10     1.0\n",
       "44   2019-12-30          dew     2.0\n",
       "360  2019-12-30  temperature     1.1\n",
       "587  2019-12-30         pm25    55.0"
      ]
     },
     "execution_count": 5,
     "metadata": {},
     "output_type": "execute_result"
    }
   ],
   "source": [
    "df_N[df_N['Date']=='2019-12-30']"
   ]
  },
  {
   "cell_type": "code",
   "execution_count": 6,
   "id": "5892bcbd",
   "metadata": {},
   "outputs": [
    {
     "data": {
      "text/plain": [
       "array(['pm1', 'humidity', 'wind-speed', 'pressure', 'wind speed', 'pm10',\n",
       "       'dew', 'temperature', 'pm25', 'wind gust', 'wind-gust'],\n",
       "      dtype=object)"
      ]
     },
     "execution_count": 6,
     "metadata": {},
     "output_type": "execute_result"
    }
   ],
   "source": [
    "df_N['Specie'].unique()"
   ]
  },
  {
   "cell_type": "code",
   "execution_count": 7,
   "id": "a4db6385",
   "metadata": {},
   "outputs": [],
   "source": [
    "df_dew = df_N[df_N['Specie'] == 'dew']\n",
    "newdf_dew = pd.DataFrame({'Date':list(df_dew['Date']),'dew':list(df_dew['min'])})"
   ]
  },
  {
   "cell_type": "code",
   "execution_count": 8,
   "id": "cdcf9168",
   "metadata": {},
   "outputs": [],
   "source": [
    "df_pm1 = df_N[df_N['Specie'] == 'pm1']\n",
    "newdf_pm1 = pd.DataFrame({'Date':list(df_pm1['Date']),'pm1':list(df_pm1['min'])})"
   ]
  },
  {
   "cell_type": "code",
   "execution_count": 9,
   "id": "4d6deaca",
   "metadata": {},
   "outputs": [],
   "source": [
    "df_humidity = df_N[df_N['Specie'] == 'humidity']\n",
    "newdf_humidity = pd.DataFrame({'Date':list(df_humidity['Date']),'humidity':list(df_humidity['min'])})"
   ]
  },
  {
   "cell_type": "code",
   "execution_count": 10,
   "id": "fabdadaf",
   "metadata": {},
   "outputs": [],
   "source": [
    "df_windSpeed = df_N[df_N['Specie'] == 'wind-speed']\n",
    "newdf_windSpeed = pd.DataFrame({'Date':list(df_windSpeed['Date']),'wind-speed':list(df_windSpeed['min'])})"
   ]
  },
  {
   "cell_type": "code",
   "execution_count": 11,
   "id": "0fed089a",
   "metadata": {},
   "outputs": [],
   "source": [
    "df_pressure = df_N[df_N['Specie'] == 'pressure']\n",
    "newdf_pressure = pd.DataFrame({'Date':list(df_pressure['Date']),'pressure':list(df_pressure['min'])})"
   ]
  },
  {
   "cell_type": "code",
   "execution_count": 12,
   "id": "a0a9288d",
   "metadata": {},
   "outputs": [],
   "source": [
    "df_temperature = df_N[df_N['Specie'] == 'temperature']\n",
    "newdf_temperature = pd.DataFrame({'Date':list(df_temperature['Date']),'temperature':list(df_temperature['min'])})"
   ]
  },
  {
   "cell_type": "code",
   "execution_count": 13,
   "id": "2caffbc6",
   "metadata": {},
   "outputs": [],
   "source": [
    "df_windspeed = df_N[df_N['Specie'] == 'wind speed']\n",
    "newdf_windspeed = pd.DataFrame({'Date':list(df_windspeed['Date']),'wind speed':list(df_windspeed['min'])})"
   ]
  },
  {
   "cell_type": "code",
   "execution_count": 14,
   "id": "88117f58",
   "metadata": {},
   "outputs": [],
   "source": [
    "df_pm25 = df_N[df_N['Specie'] == 'pm25']\n",
    "newdf_pm25 = pd.DataFrame({'Date':list(df_pm25['Date']),'pm25':list(df_pm25['min'])})"
   ]
  },
  {
   "cell_type": "code",
   "execution_count": 15,
   "id": "f7f09010",
   "metadata": {},
   "outputs": [],
   "source": [
    "df_windGust = df_N[df_N['Specie'] == 'wind gust']\n",
    "newdf_windGust = pd.DataFrame({'Date':list(df_windGust['Date']),'wind gust':list(df_windGust['min'])})"
   ]
  },
  {
   "cell_type": "code",
   "execution_count": 16,
   "id": "27a5ccaf",
   "metadata": {},
   "outputs": [],
   "source": [
    "df_windgust = df_N[df_N['Specie'] == 'wind-gust']\n",
    "newdf_windgust = pd.DataFrame({'Date':list(df_windgust['Date']),'wind-gust':list(df_windgust['min'])})"
   ]
  },
  {
   "cell_type": "code",
   "execution_count": 17,
   "id": "219628ae",
   "metadata": {},
   "outputs": [],
   "source": [
    "df_pm10 = df_N[df_N['Specie'] == 'pm10']\n",
    "newdf_pm10 = pd.DataFrame({'Date':list(df_pm10['Date']),'pm10':list(df_pm10['min'])})"
   ]
  },
  {
   "cell_type": "code",
   "execution_count": 18,
   "id": "e2d770bb",
   "metadata": {},
   "outputs": [
    {
     "name": "stdout",
     "output_type": "stream",
     "text": [
      "713\n",
      "626\n",
      "713\n",
      "639\n",
      "713\n",
      "82\n",
      "626\n",
      "713\n",
      "727\n",
      "5\n",
      "19\n"
     ]
    }
   ],
   "source": [
    "print(len(newdf_dew))\n",
    "print(len(newdf_pm1))\n",
    "print(len(newdf_humidity))\n",
    "print(len(newdf_windSpeed))\n",
    "print(len(newdf_pressure))\n",
    "print(len(newdf_windspeed))\n",
    "print(len(newdf_pm10))\n",
    "print(len(newdf_temperature))\n",
    "print(len(newdf_pm25))\n",
    "print(len(newdf_windGust))\n",
    "print(len(newdf_windgust))"
   ]
  },
  {
   "cell_type": "code",
   "execution_count": 19,
   "id": "1dd2ff93",
   "metadata": {},
   "outputs": [
    {
     "data": {
      "text/html": [
       "<div>\n",
       "<style scoped>\n",
       "    .dataframe tbody tr th:only-of-type {\n",
       "        vertical-align: middle;\n",
       "    }\n",
       "\n",
       "    .dataframe tbody tr th {\n",
       "        vertical-align: top;\n",
       "    }\n",
       "\n",
       "    .dataframe thead th {\n",
       "        text-align: right;\n",
       "    }\n",
       "</style>\n",
       "<table border=\"1\" class=\"dataframe\">\n",
       "  <thead>\n",
       "    <tr style=\"text-align: right;\">\n",
       "      <th></th>\n",
       "      <th>Date</th>\n",
       "      <th>wind-speed</th>\n",
       "    </tr>\n",
       "  </thead>\n",
       "  <tbody>\n",
       "    <tr>\n",
       "      <th>0</th>\n",
       "      <td>2019-12-30</td>\n",
       "      <td>0.4</td>\n",
       "    </tr>\n",
       "    <tr>\n",
       "      <th>1</th>\n",
       "      <td>2020-01-03</td>\n",
       "      <td>0.4</td>\n",
       "    </tr>\n",
       "    <tr>\n",
       "      <th>2</th>\n",
       "      <td>2020-01-04</td>\n",
       "      <td>0.3</td>\n",
       "    </tr>\n",
       "    <tr>\n",
       "      <th>3</th>\n",
       "      <td>2020-01-05</td>\n",
       "      <td>0.3</td>\n",
       "    </tr>\n",
       "    <tr>\n",
       "      <th>4</th>\n",
       "      <td>2020-01-06</td>\n",
       "      <td>0.3</td>\n",
       "    </tr>\n",
       "    <tr>\n",
       "      <th>...</th>\n",
       "      <td>...</td>\n",
       "      <td>...</td>\n",
       "    </tr>\n",
       "    <tr>\n",
       "      <th>634</th>\n",
       "      <td>2021-12-19</td>\n",
       "      <td>0.3</td>\n",
       "    </tr>\n",
       "    <tr>\n",
       "      <th>635</th>\n",
       "      <td>2021-12-20</td>\n",
       "      <td>0.3</td>\n",
       "    </tr>\n",
       "    <tr>\n",
       "      <th>636</th>\n",
       "      <td>2021-12-21</td>\n",
       "      <td>0.3</td>\n",
       "    </tr>\n",
       "    <tr>\n",
       "      <th>637</th>\n",
       "      <td>2021-12-22</td>\n",
       "      <td>0.3</td>\n",
       "    </tr>\n",
       "    <tr>\n",
       "      <th>638</th>\n",
       "      <td>2021-12-23</td>\n",
       "      <td>0.3</td>\n",
       "    </tr>\n",
       "  </tbody>\n",
       "</table>\n",
       "<p>685 rows × 2 columns</p>\n",
       "</div>"
      ],
      "text/plain": [
       "           Date  wind-speed\n",
       "0    2019-12-30         0.4\n",
       "1    2020-01-03         0.4\n",
       "2    2020-01-04         0.3\n",
       "3    2020-01-05         0.3\n",
       "4    2020-01-06         0.3\n",
       "..          ...         ...\n",
       "634  2021-12-19         0.3\n",
       "635  2021-12-20         0.3\n",
       "636  2021-12-21         0.3\n",
       "637  2021-12-22         0.3\n",
       "638  2021-12-23         0.3\n",
       "\n",
       "[685 rows x 2 columns]"
      ]
     },
     "execution_count": 19,
     "metadata": {},
     "output_type": "execute_result"
    }
   ],
   "source": [
    "newdf_windSpeed\n",
    "newdf_windspeed\n",
    "newdf_windspeed = newdf_windspeed.rename(columns={'wind speed':'wind-speed'})\n",
    "newdf_windSpeed1 = pd.concat([newdf_windSpeed,newdf_windspeed], axis = 0)\n",
    "newdf_windSpeed1.sort_values(by='Date', ascending=True, inplace=True)\n",
    "newdf_windSpeed1=newdf_windSpeed1.drop_duplicates()\n",
    "newdf_windSpeed1"
   ]
  },
  {
   "cell_type": "code",
   "execution_count": 20,
   "id": "e2934568",
   "metadata": {},
   "outputs": [
    {
     "data": {
      "text/plain": [
       "699"
      ]
     },
     "execution_count": 20,
     "metadata": {},
     "output_type": "execute_result"
    }
   ],
   "source": [
    "newdf_pm25.drop_duplicates(inplace=True)\n",
    "newdf_pm1.drop_duplicates(inplace=True)\n",
    "newdf_pm10.drop_duplicates(inplace=True)\n",
    "newdf_dew.drop_duplicates(inplace=True)\n",
    "newdf_humidity.drop_duplicates(inplace=True)\n",
    "newdf_temperature.drop_duplicates(inplace=True)\n",
    "newdf_pressure.drop_duplicates(inplace=True)\n",
    "newdf_windSpeed1.drop_duplicates(inplace=True)\n",
    "len(newdf_pm25)"
   ]
  },
  {
   "cell_type": "code",
   "execution_count": 21,
   "id": "09c23063",
   "metadata": {},
   "outputs": [],
   "source": [
    "mergeddf = pd.merge(newdf_pm25,newdf_pm1, on ='Date', how =\"outer\")\n",
    "mergeddf = pd.merge(mergeddf,newdf_pm10, on ='Date', how =\"outer\")\n",
    "mergeddf = pd.merge(mergeddf,newdf_dew, on ='Date', how =\"outer\")\n",
    "mergeddf = pd.merge(mergeddf,newdf_humidity, on ='Date', how =\"outer\")\n",
    "mergeddf = pd.merge(mergeddf,newdf_temperature, on ='Date', how =\"outer\")\n",
    "mergeddf = pd.merge(mergeddf,newdf_pressure, on ='Date', how =\"outer\")\n",
    "mergeddf = pd.merge(mergeddf,newdf_windSpeed1, on ='Date', how =\"outer\")\n"
   ]
  },
  {
   "cell_type": "code",
   "execution_count": 22,
   "id": "9216ec3e",
   "metadata": {},
   "outputs": [],
   "source": [
    "mergeddf.index = mergeddf['Date']\n",
    "mergeddf.drop(columns=['Date'],inplace=True)"
   ]
  },
  {
   "cell_type": "code",
   "execution_count": 23,
   "id": "1546c010",
   "metadata": {},
   "outputs": [
    {
     "data": {
      "text/html": [
       "<div>\n",
       "<style scoped>\n",
       "    .dataframe tbody tr th:only-of-type {\n",
       "        vertical-align: middle;\n",
       "    }\n",
       "\n",
       "    .dataframe tbody tr th {\n",
       "        vertical-align: top;\n",
       "    }\n",
       "\n",
       "    .dataframe thead th {\n",
       "        text-align: right;\n",
       "    }\n",
       "</style>\n",
       "<table border=\"1\" class=\"dataframe\">\n",
       "  <thead>\n",
       "    <tr style=\"text-align: right;\">\n",
       "      <th></th>\n",
       "      <th>pm25</th>\n",
       "      <th>pm1</th>\n",
       "      <th>pm10</th>\n",
       "      <th>dew</th>\n",
       "      <th>humidity</th>\n",
       "      <th>temperature</th>\n",
       "      <th>pressure</th>\n",
       "      <th>wind-speed</th>\n",
       "    </tr>\n",
       "    <tr>\n",
       "      <th>Date</th>\n",
       "      <th></th>\n",
       "      <th></th>\n",
       "      <th></th>\n",
       "      <th></th>\n",
       "      <th></th>\n",
       "      <th></th>\n",
       "      <th></th>\n",
       "      <th></th>\n",
       "    </tr>\n",
       "  </thead>\n",
       "  <tbody>\n",
       "    <tr>\n",
       "      <th>2019-12-30</th>\n",
       "      <td>55.0</td>\n",
       "      <td>55.0</td>\n",
       "      <td>1.0</td>\n",
       "      <td>2.0</td>\n",
       "      <td>60.0</td>\n",
       "      <td>1.1</td>\n",
       "      <td>1020.0</td>\n",
       "      <td>0.4</td>\n",
       "    </tr>\n",
       "    <tr>\n",
       "      <th>2019-12-31</th>\n",
       "      <td>74.0</td>\n",
       "      <td>69.0</td>\n",
       "      <td>33.0</td>\n",
       "      <td>NaN</td>\n",
       "      <td>NaN</td>\n",
       "      <td>NaN</td>\n",
       "      <td>NaN</td>\n",
       "      <td>NaN</td>\n",
       "    </tr>\n",
       "    <tr>\n",
       "      <th>2020-01-01</th>\n",
       "      <td>62.0</td>\n",
       "      <td>60.0</td>\n",
       "      <td>25.0</td>\n",
       "      <td>NaN</td>\n",
       "      <td>NaN</td>\n",
       "      <td>NaN</td>\n",
       "      <td>NaN</td>\n",
       "      <td>NaN</td>\n",
       "    </tr>\n",
       "    <tr>\n",
       "      <th>2020-01-02</th>\n",
       "      <td>74.0</td>\n",
       "      <td>70.0</td>\n",
       "      <td>27.0</td>\n",
       "      <td>NaN</td>\n",
       "      <td>NaN</td>\n",
       "      <td>NaN</td>\n",
       "      <td>NaN</td>\n",
       "      <td>NaN</td>\n",
       "    </tr>\n",
       "    <tr>\n",
       "      <th>2020-01-03</th>\n",
       "      <td>68.0</td>\n",
       "      <td>67.0</td>\n",
       "      <td>21.0</td>\n",
       "      <td>5.0</td>\n",
       "      <td>81.0</td>\n",
       "      <td>6.0</td>\n",
       "      <td>1020.0</td>\n",
       "      <td>0.4</td>\n",
       "    </tr>\n",
       "    <tr>\n",
       "      <th>...</th>\n",
       "      <td>...</td>\n",
       "      <td>...</td>\n",
       "      <td>...</td>\n",
       "      <td>...</td>\n",
       "      <td>...</td>\n",
       "      <td>...</td>\n",
       "      <td>...</td>\n",
       "      <td>...</td>\n",
       "    </tr>\n",
       "    <tr>\n",
       "      <th>2021-12-19</th>\n",
       "      <td>42.0</td>\n",
       "      <td>50.0</td>\n",
       "      <td>19.0</td>\n",
       "      <td>3.0</td>\n",
       "      <td>40.1</td>\n",
       "      <td>4.0</td>\n",
       "      <td>1018.0</td>\n",
       "      <td>0.3</td>\n",
       "    </tr>\n",
       "    <tr>\n",
       "      <th>2021-12-20</th>\n",
       "      <td>54.0</td>\n",
       "      <td>52.0</td>\n",
       "      <td>18.0</td>\n",
       "      <td>2.0</td>\n",
       "      <td>37.0</td>\n",
       "      <td>3.5</td>\n",
       "      <td>1019.0</td>\n",
       "      <td>0.3</td>\n",
       "    </tr>\n",
       "    <tr>\n",
       "      <th>2021-12-21</th>\n",
       "      <td>70.0</td>\n",
       "      <td>71.0</td>\n",
       "      <td>29.0</td>\n",
       "      <td>0.0</td>\n",
       "      <td>27.4</td>\n",
       "      <td>3.5</td>\n",
       "      <td>1017.0</td>\n",
       "      <td>0.3</td>\n",
       "    </tr>\n",
       "    <tr>\n",
       "      <th>2021-12-22</th>\n",
       "      <td>77.0</td>\n",
       "      <td>65.0</td>\n",
       "      <td>37.0</td>\n",
       "      <td>-1.5</td>\n",
       "      <td>27.0</td>\n",
       "      <td>3.0</td>\n",
       "      <td>1015.0</td>\n",
       "      <td>0.3</td>\n",
       "    </tr>\n",
       "    <tr>\n",
       "      <th>2021-12-23</th>\n",
       "      <td>117.0</td>\n",
       "      <td>104.0</td>\n",
       "      <td>42.0</td>\n",
       "      <td>0.0</td>\n",
       "      <td>31.0</td>\n",
       "      <td>4.0</td>\n",
       "      <td>1016.5</td>\n",
       "      <td>0.3</td>\n",
       "    </tr>\n",
       "  </tbody>\n",
       "</table>\n",
       "<p>699 rows × 8 columns</p>\n",
       "</div>"
      ],
      "text/plain": [
       "             pm25    pm1  pm10  dew  humidity  temperature  pressure  \\\n",
       "Date                                                                   \n",
       "2019-12-30   55.0   55.0   1.0  2.0      60.0          1.1    1020.0   \n",
       "2019-12-31   74.0   69.0  33.0  NaN       NaN          NaN       NaN   \n",
       "2020-01-01   62.0   60.0  25.0  NaN       NaN          NaN       NaN   \n",
       "2020-01-02   74.0   70.0  27.0  NaN       NaN          NaN       NaN   \n",
       "2020-01-03   68.0   67.0  21.0  5.0      81.0          6.0    1020.0   \n",
       "...           ...    ...   ...  ...       ...          ...       ...   \n",
       "2021-12-19   42.0   50.0  19.0  3.0      40.1          4.0    1018.0   \n",
       "2021-12-20   54.0   52.0  18.0  2.0      37.0          3.5    1019.0   \n",
       "2021-12-21   70.0   71.0  29.0  0.0      27.4          3.5    1017.0   \n",
       "2021-12-22   77.0   65.0  37.0 -1.5      27.0          3.0    1015.0   \n",
       "2021-12-23  117.0  104.0  42.0  0.0      31.0          4.0    1016.5   \n",
       "\n",
       "            wind-speed  \n",
       "Date                    \n",
       "2019-12-30         0.4  \n",
       "2019-12-31         NaN  \n",
       "2020-01-01         NaN  \n",
       "2020-01-02         NaN  \n",
       "2020-01-03         0.4  \n",
       "...                ...  \n",
       "2021-12-19         0.3  \n",
       "2021-12-20         0.3  \n",
       "2021-12-21         0.3  \n",
       "2021-12-22         0.3  \n",
       "2021-12-23         0.3  \n",
       "\n",
       "[699 rows x 8 columns]"
      ]
     },
     "execution_count": 23,
     "metadata": {},
     "output_type": "execute_result"
    }
   ],
   "source": [
    "mergeddf"
   ]
  },
  {
   "cell_type": "code",
   "execution_count": 24,
   "id": "5b2dfd09",
   "metadata": {},
   "outputs": [
    {
     "data": {
      "text/plain": [
       "0"
      ]
     },
     "execution_count": 24,
     "metadata": {},
     "output_type": "execute_result"
    }
   ],
   "source": [
    "mergeddf['pm1'].fillna(0, inplace=True)\n",
    "mergeddf[mergeddf['pm1'].isna()].shape[0]"
   ]
  },
  {
   "cell_type": "code",
   "execution_count": 25,
   "id": "3e326d6d",
   "metadata": {},
   "outputs": [
    {
     "data": {
      "text/plain": [
       "0"
      ]
     },
     "execution_count": 25,
     "metadata": {},
     "output_type": "execute_result"
    }
   ],
   "source": [
    "mergeddf['pm10'].fillna(0, inplace=True)\n",
    "mergeddf[mergeddf['pm10'].isna()].shape[0]"
   ]
  },
  {
   "cell_type": "code",
   "execution_count": 26,
   "id": "397c192a",
   "metadata": {},
   "outputs": [
    {
     "data": {
      "text/plain": [
       "0"
      ]
     },
     "execution_count": 26,
     "metadata": {},
     "output_type": "execute_result"
    }
   ],
   "source": [
    "mergeddf['dew'].fillna(0, inplace=True)\n",
    "mergeddf[mergeddf['dew'].isna()].shape[0]"
   ]
  },
  {
   "cell_type": "code",
   "execution_count": 27,
   "id": "1ffcb7e3",
   "metadata": {},
   "outputs": [
    {
     "data": {
      "text/plain": [
       "0"
      ]
     },
     "execution_count": 27,
     "metadata": {},
     "output_type": "execute_result"
    }
   ],
   "source": [
    "mergeddf['humidity'].fillna(0, inplace=True)\n",
    "mergeddf[mergeddf['humidity'].isna()].shape[0]"
   ]
  },
  {
   "cell_type": "code",
   "execution_count": 28,
   "id": "613e7351",
   "metadata": {},
   "outputs": [
    {
     "data": {
      "text/plain": [
       "0"
      ]
     },
     "execution_count": 28,
     "metadata": {},
     "output_type": "execute_result"
    }
   ],
   "source": [
    "mergeddf['temperature'].fillna(0, inplace=True)\n",
    "mergeddf[mergeddf['temperature'].isna()].shape[0]"
   ]
  },
  {
   "cell_type": "code",
   "execution_count": 29,
   "id": "04952ee9",
   "metadata": {},
   "outputs": [
    {
     "data": {
      "text/plain": [
       "0"
      ]
     },
     "execution_count": 29,
     "metadata": {},
     "output_type": "execute_result"
    }
   ],
   "source": [
    "mergeddf['pressure'].fillna(0, inplace=True)\n",
    "mergeddf[mergeddf['pressure'].isna()].shape[0]"
   ]
  },
  {
   "cell_type": "code",
   "execution_count": 30,
   "id": "3e2d73fd",
   "metadata": {},
   "outputs": [
    {
     "data": {
      "text/plain": [
       "0"
      ]
     },
     "execution_count": 30,
     "metadata": {},
     "output_type": "execute_result"
    }
   ],
   "source": [
    "mergeddf['wind-speed'].fillna(0, inplace=True)\n",
    "mergeddf[mergeddf['wind-speed'].isna()].shape[0]"
   ]
  },
  {
   "cell_type": "code",
   "execution_count": 31,
   "id": "e0c102a0",
   "metadata": {},
   "outputs": [
    {
     "data": {
      "text/html": [
       "<div>\n",
       "<style scoped>\n",
       "    .dataframe tbody tr th:only-of-type {\n",
       "        vertical-align: middle;\n",
       "    }\n",
       "\n",
       "    .dataframe tbody tr th {\n",
       "        vertical-align: top;\n",
       "    }\n",
       "\n",
       "    .dataframe thead th {\n",
       "        text-align: right;\n",
       "    }\n",
       "</style>\n",
       "<table border=\"1\" class=\"dataframe\">\n",
       "  <thead>\n",
       "    <tr style=\"text-align: right;\">\n",
       "      <th></th>\n",
       "      <th>pm25</th>\n",
       "      <th>pm1</th>\n",
       "      <th>pm10</th>\n",
       "      <th>dew</th>\n",
       "      <th>humidity</th>\n",
       "      <th>temperature</th>\n",
       "      <th>pressure</th>\n",
       "      <th>wind-speed</th>\n",
       "    </tr>\n",
       "    <tr>\n",
       "      <th>Date</th>\n",
       "      <th></th>\n",
       "      <th></th>\n",
       "      <th></th>\n",
       "      <th></th>\n",
       "      <th></th>\n",
       "      <th></th>\n",
       "      <th></th>\n",
       "      <th></th>\n",
       "    </tr>\n",
       "  </thead>\n",
       "  <tbody>\n",
       "    <tr>\n",
       "      <th>2019-12-30</th>\n",
       "      <td>55.0</td>\n",
       "      <td>55.0</td>\n",
       "      <td>1.0</td>\n",
       "      <td>2.0</td>\n",
       "      <td>60.0</td>\n",
       "      <td>1.1</td>\n",
       "      <td>1020.0</td>\n",
       "      <td>0.4</td>\n",
       "    </tr>\n",
       "    <tr>\n",
       "      <th>2019-12-31</th>\n",
       "      <td>74.0</td>\n",
       "      <td>69.0</td>\n",
       "      <td>33.0</td>\n",
       "      <td>0.0</td>\n",
       "      <td>0.0</td>\n",
       "      <td>0.0</td>\n",
       "      <td>0.0</td>\n",
       "      <td>0.0</td>\n",
       "    </tr>\n",
       "    <tr>\n",
       "      <th>2020-01-01</th>\n",
       "      <td>62.0</td>\n",
       "      <td>60.0</td>\n",
       "      <td>25.0</td>\n",
       "      <td>0.0</td>\n",
       "      <td>0.0</td>\n",
       "      <td>0.0</td>\n",
       "      <td>0.0</td>\n",
       "      <td>0.0</td>\n",
       "    </tr>\n",
       "    <tr>\n",
       "      <th>2020-01-02</th>\n",
       "      <td>74.0</td>\n",
       "      <td>70.0</td>\n",
       "      <td>27.0</td>\n",
       "      <td>0.0</td>\n",
       "      <td>0.0</td>\n",
       "      <td>0.0</td>\n",
       "      <td>0.0</td>\n",
       "      <td>0.0</td>\n",
       "    </tr>\n",
       "    <tr>\n",
       "      <th>2020-01-03</th>\n",
       "      <td>68.0</td>\n",
       "      <td>67.0</td>\n",
       "      <td>21.0</td>\n",
       "      <td>5.0</td>\n",
       "      <td>81.0</td>\n",
       "      <td>6.0</td>\n",
       "      <td>1020.0</td>\n",
       "      <td>0.4</td>\n",
       "    </tr>\n",
       "    <tr>\n",
       "      <th>...</th>\n",
       "      <td>...</td>\n",
       "      <td>...</td>\n",
       "      <td>...</td>\n",
       "      <td>...</td>\n",
       "      <td>...</td>\n",
       "      <td>...</td>\n",
       "      <td>...</td>\n",
       "      <td>...</td>\n",
       "    </tr>\n",
       "    <tr>\n",
       "      <th>2021-12-19</th>\n",
       "      <td>42.0</td>\n",
       "      <td>50.0</td>\n",
       "      <td>19.0</td>\n",
       "      <td>3.0</td>\n",
       "      <td>40.1</td>\n",
       "      <td>4.0</td>\n",
       "      <td>1018.0</td>\n",
       "      <td>0.3</td>\n",
       "    </tr>\n",
       "    <tr>\n",
       "      <th>2021-12-20</th>\n",
       "      <td>54.0</td>\n",
       "      <td>52.0</td>\n",
       "      <td>18.0</td>\n",
       "      <td>2.0</td>\n",
       "      <td>37.0</td>\n",
       "      <td>3.5</td>\n",
       "      <td>1019.0</td>\n",
       "      <td>0.3</td>\n",
       "    </tr>\n",
       "    <tr>\n",
       "      <th>2021-12-21</th>\n",
       "      <td>70.0</td>\n",
       "      <td>71.0</td>\n",
       "      <td>29.0</td>\n",
       "      <td>0.0</td>\n",
       "      <td>27.4</td>\n",
       "      <td>3.5</td>\n",
       "      <td>1017.0</td>\n",
       "      <td>0.3</td>\n",
       "    </tr>\n",
       "    <tr>\n",
       "      <th>2021-12-22</th>\n",
       "      <td>77.0</td>\n",
       "      <td>65.0</td>\n",
       "      <td>37.0</td>\n",
       "      <td>-1.5</td>\n",
       "      <td>27.0</td>\n",
       "      <td>3.0</td>\n",
       "      <td>1015.0</td>\n",
       "      <td>0.3</td>\n",
       "    </tr>\n",
       "    <tr>\n",
       "      <th>2021-12-23</th>\n",
       "      <td>117.0</td>\n",
       "      <td>104.0</td>\n",
       "      <td>42.0</td>\n",
       "      <td>0.0</td>\n",
       "      <td>31.0</td>\n",
       "      <td>4.0</td>\n",
       "      <td>1016.5</td>\n",
       "      <td>0.3</td>\n",
       "    </tr>\n",
       "  </tbody>\n",
       "</table>\n",
       "<p>699 rows × 8 columns</p>\n",
       "</div>"
      ],
      "text/plain": [
       "             pm25    pm1  pm10  dew  humidity  temperature  pressure  \\\n",
       "Date                                                                   \n",
       "2019-12-30   55.0   55.0   1.0  2.0      60.0          1.1    1020.0   \n",
       "2019-12-31   74.0   69.0  33.0  0.0       0.0          0.0       0.0   \n",
       "2020-01-01   62.0   60.0  25.0  0.0       0.0          0.0       0.0   \n",
       "2020-01-02   74.0   70.0  27.0  0.0       0.0          0.0       0.0   \n",
       "2020-01-03   68.0   67.0  21.0  5.0      81.0          6.0    1020.0   \n",
       "...           ...    ...   ...  ...       ...          ...       ...   \n",
       "2021-12-19   42.0   50.0  19.0  3.0      40.1          4.0    1018.0   \n",
       "2021-12-20   54.0   52.0  18.0  2.0      37.0          3.5    1019.0   \n",
       "2021-12-21   70.0   71.0  29.0  0.0      27.4          3.5    1017.0   \n",
       "2021-12-22   77.0   65.0  37.0 -1.5      27.0          3.0    1015.0   \n",
       "2021-12-23  117.0  104.0  42.0  0.0      31.0          4.0    1016.5   \n",
       "\n",
       "            wind-speed  \n",
       "Date                    \n",
       "2019-12-30         0.4  \n",
       "2019-12-31         0.0  \n",
       "2020-01-01         0.0  \n",
       "2020-01-02         0.0  \n",
       "2020-01-03         0.4  \n",
       "...                ...  \n",
       "2021-12-19         0.3  \n",
       "2021-12-20         0.3  \n",
       "2021-12-21         0.3  \n",
       "2021-12-22         0.3  \n",
       "2021-12-23         0.3  \n",
       "\n",
       "[699 rows x 8 columns]"
      ]
     },
     "execution_count": 31,
     "metadata": {},
     "output_type": "execute_result"
    }
   ],
   "source": [
    "mergeddf"
   ]
  },
  {
   "cell_type": "code",
   "execution_count": 32,
   "id": "2d7e8383",
   "metadata": {},
   "outputs": [
    {
     "data": {
      "image/png": "[encoded data removed]",
      "text/plain": [
       "<Figure size 720x360 with 2 Axes>"
      ]
     },
     "metadata": {
      "needs_background": "light"
     },
     "output_type": "display_data"
    }
   ],
   "source": [
    "import seaborn as sb\n",
    "fig = plt.figure(figsize=(10,5))\n",
    "corr = mergeddf.corr()\n",
    "sb.heatmap(corr, cmap=\"Blues\", annot=True)\n",
    "fig.savefig('feature correlation.jpg', bbox_inches='tight', dpi=150)"
   ]
  },
  {
   "cell_type": "markdown",
   "id": "6868fa6c",
   "metadata": {},
   "source": [
    "## LSTM training data preparation"
   ]
  },
  {
   "cell_type": "markdown",
   "id": "e0d490e6",
   "metadata": {},
   "source": [
    "In this step, we need to frame the dataset as a supervised learning problem and normalizing the input variables.\n",
    "\n",
    "Refer to this blog link, we will define a new Python function named series_to_supervised() that takes a univariate or multivariate time series and frames it as a supervised learning dataset."
   ]
  },
  {
   "cell_type": "markdown",
   "id": "c6a3be80",
   "metadata": {},
   "source": [
    "The function takes four arguments:\n",
    "* data: Sequence of observations as a list or 2D NumPy array. Required.\n",
    "* n_in: Number of lag observations as input (X). Values may be between [1..len(data)] Optional. Defaults to 1.\n",
    "* n_out: Number of observations as output (y). Values may be between [0..len(data)-1]. Optional. Defaults to 1.\n",
    "* dropnan: Boolean whether or not to drop rows with NaN values. Optional. Defaults to True.\n",
    "\n",
    "The function returns a single value:\n",
    "* return: Pandas DataFrame of series framed for supervised learning."
   ]
  },
  {
   "cell_type": "code",
   "execution_count": 33,
   "id": "b7021a89",
   "metadata": {},
   "outputs": [],
   "source": [
    "def series_to_supervised(data, n_in=1, n_out=1, dropnan=True):\n",
    "    \"\"\"\n",
    "    Frame a time series as a supervised learning dataset.\n",
    "    Arguments:\n",
    "        data: Sequence of observations as a list or NumPy array.\n",
    "        n_in: Number of lag observations as input (X).\n",
    "        n_out: Number of observations as output (y).\n",
    "        dropnan: Boolean whether or not to drop rows with NaN values.\n",
    "    Returns:\n",
    "        Pandas DataFrame of series framed for supervised learning.\n",
    "    \"\"\"\n",
    "    n_vars = 1 if type(data) is list else data.shape[1]\n",
    "    df = pd.DataFrame(data)\n",
    "    cols, names = list(), list()\n",
    "    # input sequence (t-n, ... t-1)\n",
    "    for i in range(n_in, 0, -1):\n",
    "        cols.append(df.shift(i))\n",
    "        names += [('var%d(t-%d)' % (j+1, i)) for j in range(n_vars)]\n",
    "    # forecast sequence (t, t+1, ... t+n)\n",
    "    for i in range(0, n_out):\n",
    "        cols.append(df.shift(-i))\n",
    "        if i == 0:\n",
    "            names += [('var%d(t)' % (j+1)) for j in range(n_vars)]\n",
    "        else:\n",
    "            names += [('var%d(t+%d)' % (j+1, i)) for j in range(n_vars)]\n",
    "    # put it all together\n",
    "    agg = pd.concat(cols, axis=1)\n",
    "    agg.columns = names\n",
    "    # drop rows with NaN values\n",
    "    if dropnan:\n",
    "        agg.dropna(inplace=True)\n",
    "    return agg"
   ]
  },
  {
   "cell_type": "markdown",
   "id": "4ebf1d92",
   "metadata": {},
   "source": [
    "Start data preparation"
   ]
  },
  {
   "cell_type": "code",
   "execution_count": 34,
   "id": "854d7588",
   "metadata": {},
   "outputs": [],
   "source": [
    "from sklearn.preprocessing import MinMaxScaler\n",
    "from sklearn.preprocessing import LabelEncoder\n",
    "from sklearn.metrics import mean_squared_error"
   ]
  },
  {
   "cell_type": "code",
   "execution_count": 35,
   "id": "43b70a04",
   "metadata": {},
   "outputs": [
    {
     "data": {
      "text/plain": [
       "array([[5.5000e+01, 5.5000e+01, 1.0000e+00, ..., 1.1000e+00, 1.0200e+03,\n",
       "        4.0000e-01],\n",
       "       [7.4000e+01, 6.9000e+01, 3.3000e+01, ..., 0.0000e+00, 0.0000e+00,\n",
       "        0.0000e+00],\n",
       "       [6.2000e+01, 6.0000e+01, 2.5000e+01, ..., 0.0000e+00, 0.0000e+00,\n",
       "        0.0000e+00],\n",
       "       ...,\n",
       "       [7.0000e+01, 7.1000e+01, 2.9000e+01, ..., 3.5000e+00, 1.0170e+03,\n",
       "        3.0000e-01],\n",
       "       [7.7000e+01, 6.5000e+01, 3.7000e+01, ..., 3.0000e+00, 1.0150e+03,\n",
       "        3.0000e-01],\n",
       "       [1.1700e+02, 1.0400e+02, 4.2000e+01, ..., 4.0000e+00, 1.0165e+03,\n",
       "        3.0000e-01]])"
      ]
     },
     "execution_count": 35,
     "metadata": {},
     "output_type": "execute_result"
    }
   ],
   "source": [
    "values = mergeddf.values\n",
    "values"
   ]
  },
  {
   "cell_type": "code",
   "execution_count": 36,
   "id": "4db308cf",
   "metadata": {},
   "outputs": [
    {
     "data": {
      "text/plain": [
       "numpy.ndarray"
      ]
     },
     "execution_count": 36,
     "metadata": {},
     "output_type": "execute_result"
    }
   ],
   "source": [
    "type(values)"
   ]
  },
  {
   "cell_type": "code",
   "execution_count": 37,
   "id": "367ba59f",
   "metadata": {},
   "outputs": [],
   "source": [
    "# change all datatype to float\n",
    "values = values.astype('float32')"
   ]
  },
  {
   "cell_type": "code",
   "execution_count": 38,
   "id": "1a2eb663",
   "metadata": {},
   "outputs": [],
   "source": [
    "# normalization all features\n",
    "scaler = MinMaxScaler(feature_range=(0, 1))\n",
    "scaled = scaler.fit_transform(values)"
   ]
  },
  {
   "cell_type": "code",
   "execution_count": 39,
   "id": "58a1c601",
   "metadata": {},
   "outputs": [
    {
     "data": {
      "text/plain": [
       "(699, 8)"
      ]
     },
     "execution_count": 39,
     "metadata": {},
     "output_type": "execute_result"
    }
   ],
   "source": [
    "scaled.shape"
   ]
  },
  {
   "cell_type": "code",
   "execution_count": null,
   "id": "2ad9c091",
   "metadata": {},
   "outputs": [],
   "source": []
  },
  {
   "cell_type": "code",
   "execution_count": 40,
   "id": "4504008d",
   "metadata": {},
   "outputs": [],
   "source": [
    "# use defined function to reframe dataset\n",
    "reframed = series_to_supervised(scaled, 1, 1)"
   ]
  },
  {
   "cell_type": "code",
   "execution_count": 44,
   "id": "44c7e21e",
   "metadata": {},
   "outputs": [
    {
     "data": {
      "text/html": [
       "<div>\n",
       "<style scoped>\n",
       "    .dataframe tbody tr th:only-of-type {\n",
       "        vertical-align: middle;\n",
       "    }\n",
       "\n",
       "    .dataframe tbody tr th {\n",
       "        vertical-align: top;\n",
       "    }\n",
       "\n",
       "    .dataframe thead th {\n",
       "        text-align: right;\n",
       "    }\n",
       "</style>\n",
       "<table border=\"1\" class=\"dataframe\">\n",
       "  <thead>\n",
       "    <tr style=\"text-align: right;\">\n",
       "      <th></th>\n",
       "      <th>var1(t-1)</th>\n",
       "      <th>var2(t-1)</th>\n",
       "      <th>var3(t-1)</th>\n",
       "      <th>var4(t-1)</th>\n",
       "      <th>var5(t-1)</th>\n",
       "      <th>var6(t-1)</th>\n",
       "      <th>var7(t-1)</th>\n",
       "      <th>var8(t-1)</th>\n",
       "      <th>var1(t)</th>\n",
       "    </tr>\n",
       "  </thead>\n",
       "  <tbody>\n",
       "    <tr>\n",
       "      <th>1</th>\n",
       "      <td>0.312139</td>\n",
       "      <td>0.333333</td>\n",
       "      <td>0.009259</td>\n",
       "      <td>0.344262</td>\n",
       "      <td>0.986044</td>\n",
       "      <td>0.050000</td>\n",
       "      <td>0.997555</td>\n",
       "      <td>0.133333</td>\n",
       "      <td>0.421965</td>\n",
       "    </tr>\n",
       "    <tr>\n",
       "      <th>2</th>\n",
       "      <td>0.421965</td>\n",
       "      <td>0.418182</td>\n",
       "      <td>0.305556</td>\n",
       "      <td>0.278689</td>\n",
       "      <td>0.965111</td>\n",
       "      <td>0.000000</td>\n",
       "      <td>0.000000</td>\n",
       "      <td>0.000000</td>\n",
       "      <td>0.352601</td>\n",
       "    </tr>\n",
       "    <tr>\n",
       "      <th>3</th>\n",
       "      <td>0.352601</td>\n",
       "      <td>0.363636</td>\n",
       "      <td>0.231481</td>\n",
       "      <td>0.278689</td>\n",
       "      <td>0.965111</td>\n",
       "      <td>0.000000</td>\n",
       "      <td>0.000000</td>\n",
       "      <td>0.000000</td>\n",
       "      <td>0.421965</td>\n",
       "    </tr>\n",
       "    <tr>\n",
       "      <th>4</th>\n",
       "      <td>0.421965</td>\n",
       "      <td>0.424242</td>\n",
       "      <td>0.250000</td>\n",
       "      <td>0.278689</td>\n",
       "      <td>0.965111</td>\n",
       "      <td>0.000000</td>\n",
       "      <td>0.000000</td>\n",
       "      <td>0.000000</td>\n",
       "      <td>0.387283</td>\n",
       "    </tr>\n",
       "    <tr>\n",
       "      <th>5</th>\n",
       "      <td>0.387283</td>\n",
       "      <td>0.406061</td>\n",
       "      <td>0.194444</td>\n",
       "      <td>0.442623</td>\n",
       "      <td>0.993371</td>\n",
       "      <td>0.272727</td>\n",
       "      <td>0.997555</td>\n",
       "      <td>0.133333</td>\n",
       "      <td>0.393064</td>\n",
       "    </tr>\n",
       "  </tbody>\n",
       "</table>\n",
       "</div>"
      ],
      "text/plain": [
       "   var1(t-1)  var2(t-1)  var3(t-1)  var4(t-1)  var5(t-1)  var6(t-1)  \\\n",
       "1   0.312139   0.333333   0.009259   0.344262   0.986044   0.050000   \n",
       "2   0.421965   0.418182   0.305556   0.278689   0.965111   0.000000   \n",
       "3   0.352601   0.363636   0.231481   0.278689   0.965111   0.000000   \n",
       "4   0.421965   0.424242   0.250000   0.278689   0.965111   0.000000   \n",
       "5   0.387283   0.406061   0.194444   0.442623   0.993371   0.272727   \n",
       "\n",
       "   var7(t-1)  var8(t-1)   var1(t)  \n",
       "1   0.997555   0.133333  0.421965  \n",
       "2   0.000000   0.000000  0.352601  \n",
       "3   0.000000   0.000000  0.421965  \n",
       "4   0.000000   0.000000  0.387283  \n",
       "5   0.997555   0.133333  0.393064  "
      ]
     },
     "execution_count": 44,
     "metadata": {},
     "output_type": "execute_result"
    }
   ],
   "source": [
    "reframed.head()"
   ]
  },
  {
   "cell_type": "code",
   "execution_count": 45,
   "id": "217b9463",
   "metadata": {},
   "outputs": [],
   "source": [
    "# drop unnecessary columns (we only need to predict next hour pm2.5, no need to predict all features, so we keep all feature(t-1)data and target feature(t)data)\n",
    "reframed.drop(reframed.columns[9:], axis=1, inplace=True)"
   ]
  },
  {
   "cell_type": "code",
   "execution_count": 46,
   "id": "77d374f0",
   "metadata": {},
   "outputs": [
    {
     "data": {
      "text/html": [
       "<div>\n",
       "<style scoped>\n",
       "    .dataframe tbody tr th:only-of-type {\n",
       "        vertical-align: middle;\n",
       "    }\n",
       "\n",
       "    .dataframe tbody tr th {\n",
       "        vertical-align: top;\n",
       "    }\n",
       "\n",
       "    .dataframe thead th {\n",
       "        text-align: right;\n",
       "    }\n",
       "</style>\n",
       "<table border=\"1\" class=\"dataframe\">\n",
       "  <thead>\n",
       "    <tr style=\"text-align: right;\">\n",
       "      <th></th>\n",
       "      <th>var1(t-1)</th>\n",
       "      <th>var2(t-1)</th>\n",
       "      <th>var3(t-1)</th>\n",
       "      <th>var4(t-1)</th>\n",
       "      <th>var5(t-1)</th>\n",
       "      <th>var6(t-1)</th>\n",
       "      <th>var7(t-1)</th>\n",
       "      <th>var8(t-1)</th>\n",
       "      <th>var1(t)</th>\n",
       "    </tr>\n",
       "  </thead>\n",
       "  <tbody>\n",
       "    <tr>\n",
       "      <th>1</th>\n",
       "      <td>0.312139</td>\n",
       "      <td>0.333333</td>\n",
       "      <td>0.009259</td>\n",
       "      <td>0.344262</td>\n",
       "      <td>0.986044</td>\n",
       "      <td>0.050000</td>\n",
       "      <td>0.997555</td>\n",
       "      <td>0.133333</td>\n",
       "      <td>0.421965</td>\n",
       "    </tr>\n",
       "    <tr>\n",
       "      <th>2</th>\n",
       "      <td>0.421965</td>\n",
       "      <td>0.418182</td>\n",
       "      <td>0.305556</td>\n",
       "      <td>0.278689</td>\n",
       "      <td>0.965111</td>\n",
       "      <td>0.000000</td>\n",
       "      <td>0.000000</td>\n",
       "      <td>0.000000</td>\n",
       "      <td>0.352601</td>\n",
       "    </tr>\n",
       "    <tr>\n",
       "      <th>3</th>\n",
       "      <td>0.352601</td>\n",
       "      <td>0.363636</td>\n",
       "      <td>0.231481</td>\n",
       "      <td>0.278689</td>\n",
       "      <td>0.965111</td>\n",
       "      <td>0.000000</td>\n",
       "      <td>0.000000</td>\n",
       "      <td>0.000000</td>\n",
       "      <td>0.421965</td>\n",
       "    </tr>\n",
       "    <tr>\n",
       "      <th>4</th>\n",
       "      <td>0.421965</td>\n",
       "      <td>0.424242</td>\n",
       "      <td>0.250000</td>\n",
       "      <td>0.278689</td>\n",
       "      <td>0.965111</td>\n",
       "      <td>0.000000</td>\n",
       "      <td>0.000000</td>\n",
       "      <td>0.000000</td>\n",
       "      <td>0.387283</td>\n",
       "    </tr>\n",
       "    <tr>\n",
       "      <th>5</th>\n",
       "      <td>0.387283</td>\n",
       "      <td>0.406061</td>\n",
       "      <td>0.194444</td>\n",
       "      <td>0.442623</td>\n",
       "      <td>0.993371</td>\n",
       "      <td>0.272727</td>\n",
       "      <td>0.997555</td>\n",
       "      <td>0.133333</td>\n",
       "      <td>0.393064</td>\n",
       "    </tr>\n",
       "  </tbody>\n",
       "</table>\n",
       "</div>"
      ],
      "text/plain": [
       "   var1(t-1)  var2(t-1)  var3(t-1)  var4(t-1)  var5(t-1)  var6(t-1)  \\\n",
       "1   0.312139   0.333333   0.009259   0.344262   0.986044   0.050000   \n",
       "2   0.421965   0.418182   0.305556   0.278689   0.965111   0.000000   \n",
       "3   0.352601   0.363636   0.231481   0.278689   0.965111   0.000000   \n",
       "4   0.421965   0.424242   0.250000   0.278689   0.965111   0.000000   \n",
       "5   0.387283   0.406061   0.194444   0.442623   0.993371   0.272727   \n",
       "\n",
       "   var7(t-1)  var8(t-1)   var1(t)  \n",
       "1   0.997555   0.133333  0.421965  \n",
       "2   0.000000   0.000000  0.352601  \n",
       "3   0.000000   0.000000  0.421965  \n",
       "4   0.000000   0.000000  0.387283  \n",
       "5   0.997555   0.133333  0.393064  "
      ]
     },
     "execution_count": 46,
     "metadata": {},
     "output_type": "execute_result"
    }
   ],
   "source": [
    "reframed.head()"
   ]
  },
  {
   "cell_type": "markdown",
   "id": "aaf6a9df",
   "metadata": {},
   "source": [
    "## Split data into train set and test set"
   ]
  },
  {
   "cell_type": "markdown",
   "id": "c8e36eca",
   "metadata": {},
   "source": [
    "we need to split the dataset into train set and test set, then splits the train set and test set into input and output variables. \n",
    "\n",
    "Finally, the inputs (X) are reshaped into the 3D format expected by LSTM, [samples, timesteps, features]"
   ]
  },
  {
   "cell_type": "code",
   "execution_count": 47,
   "id": "0932a77e",
   "metadata": {},
   "outputs": [
    {
     "data": {
      "text/plain": [
       "array([[0.31213874, 0.3333333 , 0.00925926, ..., 0.997555  , 0.13333334,\n",
       "        0.4219653 ],\n",
       "       [0.4219653 , 0.4181818 , 0.30555555, ..., 0.        , 0.        ,\n",
       "        0.35260117],\n",
       "       [0.35260117, 0.36363634, 0.23148148, ..., 0.        , 0.        ,\n",
       "        0.4219653 ],\n",
       "       ...,\n",
       "       [0.3063584 , 0.3151515 , 0.16666667, ..., 0.996577  , 0.10000001,\n",
       "        0.39884394],\n",
       "       [0.39884394, 0.430303  , 0.2685185 , ..., 0.99462104, 0.10000001,\n",
       "        0.43930635],\n",
       "       [0.43930635, 0.39393938, 0.3425926 , ..., 0.99266505, 0.10000001,\n",
       "        0.67052025]], dtype=float32)"
      ]
     },
     "execution_count": 47,
     "metadata": {},
     "output_type": "execute_result"
    }
   ],
   "source": [
    "reframed.values"
   ]
  },
  {
   "cell_type": "code",
   "execution_count": 96,
   "id": "7dcba737",
   "metadata": {},
   "outputs": [],
   "source": [
    "#from sklearn.model_selection import train_test_split\n",
    "#train_X,test_X, train_y,test_y = train_test_split(values[:,:], values[:,-1],test_size=0.3)\n",
    "#print(train_X.shape)\n",
    "#print(test_X.shape)\n",
    "#print(train_y.shape)\n",
    "#print(test_y.shape)"
   ]
  },
  {
   "cell_type": "code",
   "execution_count": 119,
   "id": "25fb5b46",
   "metadata": {},
   "outputs": [],
   "source": [
    "# split reframed data into train set and test set, here we choose one year to train and others to test\n",
    "values = reframed.values\n",
    "n_train_hours = 490\n",
    "train = values[:n_train_hours, :]\n",
    "test = values[n_train_hours:, :]\n"
   ]
  },
  {
   "cell_type": "code",
   "execution_count": 120,
   "id": "23bc8ed3",
   "metadata": {},
   "outputs": [],
   "source": [
    "#print(train.shape)\n",
    "#print(test.shape)"
   ]
  },
  {
   "cell_type": "code",
   "execution_count": 125,
   "id": "6c06ee03",
   "metadata": {},
   "outputs": [],
   "source": [
    "# split train and test sets into inputs and outputs\n",
    "train_X, train_y = train[:, :-1], train[:, -1]\n",
    "test_X, test_y = test[:, :-1], test[:, -1]"
   ]
  },
  {
   "cell_type": "code",
   "execution_count": 126,
   "id": "a4923b3e",
   "metadata": {},
   "outputs": [],
   "source": [
    "#print(train_X.shape)\n",
    "#print(train_y.shape)\n",
    "#print(test_X.shape)\n",
    "#print(test_y.shape)"
   ]
  },
  {
   "cell_type": "code",
   "execution_count": 127,
   "id": "b78f5871",
   "metadata": {},
   "outputs": [],
   "source": [
    "# reshape input sets to 3D format expected by LSTM [samples, timesteps, features]\n",
    "train_X = train_X.reshape((train_X.shape[0], 1, train_X.shape[1]))\n",
    "test_X = test_X.reshape((test_X.shape[0], 1, test_X.shape[1]))"
   ]
  },
  {
   "cell_type": "code",
   "execution_count": 128,
   "id": "3865bd2d",
   "metadata": {},
   "outputs": [
    {
     "data": {
      "text/plain": [
       "(490, 1, 8)"
      ]
     },
     "execution_count": 128,
     "metadata": {},
     "output_type": "execute_result"
    }
   ],
   "source": [
    "test_X.shape\n",
    "train_X.shape"
   ]
  },
  {
   "cell_type": "markdown",
   "id": "652ebf1d",
   "metadata": {},
   "source": [
    "## Define LSTM model"
   ]
  },
  {
   "cell_type": "markdown",
   "id": "fe163f3e",
   "metadata": {},
   "source": [
    "Define the LSTM with __50__ neurons in the first hidden layer and __1__ neuron in the output layer for prediction.\n",
    "\n",
    "The input shape include __8__ features\n",
    "\n",
    "Time step is __1__\n",
    "\n",
    "Use the __Mean Absolute Error (MAE)__ loss function and the efficient __Adam__ version of stochastic gradient descent.\n",
    "\n",
    "The model will be fit for __50__ training epochs with a batch size of __72__."
   ]
  },
  {
   "cell_type": "code",
   "execution_count": 129,
   "id": "ba1f5976",
   "metadata": {},
   "outputs": [],
   "source": [
    "from keras.models import Sequential\n",
    "from keras.layers import Dense\n",
    "from keras.layers import LSTM"
   ]
  },
  {
   "cell_type": "code",
   "execution_count": 130,
   "id": "bfb0e15f",
   "metadata": {},
   "outputs": [
    {
     "data": {
      "text/plain": [
       "490"
      ]
     },
     "execution_count": 130,
     "metadata": {},
     "output_type": "execute_result"
    }
   ],
   "source": [
    "train_X.shape[2]\n",
    "train_X.shape[0]"
   ]
  },
  {
   "cell_type": "code",
   "execution_count": 131,
   "id": "799c7909",
   "metadata": {},
   "outputs": [],
   "source": [
    "model = Sequential()\n",
    "model.add(LSTM(50, input_shape=(train_X.shape[1], train_X.shape[2])))\n",
    "model.add(Dense(1))\n",
    "model.compile(loss='mae', optimizer='adam')"
   ]
  },
  {
   "cell_type": "code",
   "execution_count": 132,
   "id": "931a9eeb",
   "metadata": {},
   "outputs": [
    {
     "name": "stdout",
     "output_type": "stream",
     "text": [
      "Epoch 1/50\n",
      "7/7 - 2s - loss: 0.2581 - val_loss: 0.0817 - 2s/epoch - 347ms/step\n",
      "Epoch 2/50\n",
      "7/7 - 0s - loss: 0.2204 - val_loss: 0.0846 - 53ms/epoch - 8ms/step\n",
      "Epoch 3/50\n",
      "7/7 - 0s - loss: 0.1956 - val_loss: 0.1028 - 54ms/epoch - 8ms/step\n",
      "Epoch 4/50\n",
      "7/7 - 0s - loss: 0.1802 - val_loss: 0.1205 - 52ms/epoch - 7ms/step\n",
      "Epoch 5/50\n",
      "7/7 - 0s - loss: 0.1709 - val_loss: 0.1326 - 62ms/epoch - 9ms/step\n",
      "Epoch 6/50\n",
      "7/7 - 0s - loss: 0.1652 - val_loss: 0.1371 - 62ms/epoch - 9ms/step\n",
      "Epoch 7/50\n",
      "7/7 - 0s - loss: 0.1605 - val_loss: 0.1348 - 55ms/epoch - 8ms/step\n",
      "Epoch 8/50\n",
      "7/7 - 0s - loss: 0.1554 - val_loss: 0.1283 - 52ms/epoch - 7ms/step\n",
      "Epoch 9/50\n",
      "7/7 - 0s - loss: 0.1500 - val_loss: 0.1191 - 56ms/epoch - 8ms/step\n",
      "Epoch 10/50\n",
      "7/7 - 0s - loss: 0.1445 - val_loss: 0.1095 - 60ms/epoch - 9ms/step\n",
      "Epoch 11/50\n",
      "7/7 - 0s - loss: 0.1391 - val_loss: 0.1004 - 63ms/epoch - 9ms/step\n",
      "Epoch 12/50\n",
      "7/7 - 0s - loss: 0.1338 - val_loss: 0.0919 - 55ms/epoch - 8ms/step\n",
      "Epoch 13/50\n",
      "7/7 - 0s - loss: 0.1286 - val_loss: 0.0835 - 54ms/epoch - 8ms/step\n",
      "Epoch 14/50\n",
      "7/7 - 0s - loss: 0.1233 - val_loss: 0.0762 - 54ms/epoch - 8ms/step\n",
      "Epoch 15/50\n",
      "7/7 - 0s - loss: 0.1183 - val_loss: 0.0700 - 58ms/epoch - 8ms/step\n",
      "Epoch 16/50\n",
      "7/7 - 0s - loss: 0.1134 - val_loss: 0.0655 - 58ms/epoch - 8ms/step\n",
      "Epoch 17/50\n",
      "7/7 - 0s - loss: 0.1089 - val_loss: 0.0620 - 60ms/epoch - 9ms/step\n",
      "Epoch 18/50\n",
      "7/7 - 0s - loss: 0.1049 - val_loss: 0.0594 - 59ms/epoch - 8ms/step\n",
      "Epoch 19/50\n",
      "7/7 - 0s - loss: 0.1016 - val_loss: 0.0580 - 55ms/epoch - 8ms/step\n",
      "Epoch 20/50\n",
      "7/7 - 0s - loss: 0.0992 - val_loss: 0.0576 - 63ms/epoch - 9ms/step\n",
      "Epoch 21/50\n",
      "7/7 - 0s - loss: 0.0971 - val_loss: 0.0583 - 63ms/epoch - 9ms/step\n",
      "Epoch 22/50\n",
      "7/7 - 0s - loss: 0.0957 - val_loss: 0.0591 - 62ms/epoch - 9ms/step\n",
      "Epoch 23/50\n",
      "7/7 - 0s - loss: 0.0955 - val_loss: 0.0596 - 57ms/epoch - 8ms/step\n",
      "Epoch 24/50\n",
      "7/7 - 0s - loss: 0.0951 - val_loss: 0.0596 - 65ms/epoch - 9ms/step\n",
      "Epoch 25/50\n",
      "7/7 - 0s - loss: 0.0944 - val_loss: 0.0595 - 60ms/epoch - 9ms/step\n",
      "Epoch 26/50\n",
      "7/7 - 0s - loss: 0.0937 - val_loss: 0.0595 - 56ms/epoch - 8ms/step\n",
      "Epoch 27/50\n",
      "7/7 - 0s - loss: 0.0933 - val_loss: 0.0593 - 53ms/epoch - 8ms/step\n",
      "Epoch 28/50\n",
      "7/7 - 0s - loss: 0.0925 - val_loss: 0.0594 - 60ms/epoch - 9ms/step\n",
      "Epoch 29/50\n",
      "7/7 - 0s - loss: 0.0918 - val_loss: 0.0595 - 60ms/epoch - 9ms/step\n",
      "Epoch 30/50\n",
      "7/7 - 0s - loss: 0.0913 - val_loss: 0.0596 - 58ms/epoch - 8ms/step\n",
      "Epoch 31/50\n",
      "7/7 - 0s - loss: 0.0907 - val_loss: 0.0597 - 57ms/epoch - 8ms/step\n",
      "Epoch 32/50\n",
      "7/7 - 0s - loss: 0.0902 - val_loss: 0.0598 - 56ms/epoch - 8ms/step\n",
      "Epoch 33/50\n",
      "7/7 - 0s - loss: 0.0896 - val_loss: 0.0599 - 68ms/epoch - 10ms/step\n",
      "Epoch 34/50\n",
      "7/7 - 0s - loss: 0.0891 - val_loss: 0.0599 - 55ms/epoch - 8ms/step\n",
      "Epoch 35/50\n",
      "7/7 - 0s - loss: 0.0885 - val_loss: 0.0600 - 64ms/epoch - 9ms/step\n",
      "Epoch 36/50\n",
      "7/7 - 0s - loss: 0.0880 - val_loss: 0.0601 - 57ms/epoch - 8ms/step\n",
      "Epoch 37/50\n",
      "7/7 - 0s - loss: 0.0877 - val_loss: 0.0601 - 55ms/epoch - 8ms/step\n",
      "Epoch 38/50\n",
      "7/7 - 0s - loss: 0.0872 - val_loss: 0.0601 - 53ms/epoch - 8ms/step\n",
      "Epoch 39/50\n",
      "7/7 - 0s - loss: 0.0869 - val_loss: 0.0600 - 58ms/epoch - 8ms/step\n",
      "Epoch 40/50\n",
      "7/7 - 0s - loss: 0.0864 - val_loss: 0.0599 - 62ms/epoch - 9ms/step\n",
      "Epoch 41/50\n",
      "7/7 - 0s - loss: 0.0860 - val_loss: 0.0599 - 53ms/epoch - 8ms/step\n",
      "Epoch 42/50\n",
      "7/7 - 0s - loss: 0.0856 - val_loss: 0.0599 - 57ms/epoch - 8ms/step\n",
      "Epoch 43/50\n",
      "7/7 - 0s - loss: 0.0851 - val_loss: 0.0600 - 65ms/epoch - 9ms/step\n",
      "Epoch 44/50\n",
      "7/7 - 0s - loss: 0.0848 - val_loss: 0.0600 - 65ms/epoch - 9ms/step\n",
      "Epoch 45/50\n",
      "7/7 - 0s - loss: 0.0844 - val_loss: 0.0601 - 71ms/epoch - 10ms/step\n",
      "Epoch 46/50\n",
      "7/7 - 0s - loss: 0.0841 - val_loss: 0.0600 - 73ms/epoch - 10ms/step\n",
      "Epoch 47/50\n",
      "7/7 - 0s - loss: 0.0838 - val_loss: 0.0599 - 64ms/epoch - 9ms/step\n",
      "Epoch 48/50\n",
      "7/7 - 0s - loss: 0.0833 - val_loss: 0.0599 - 72ms/epoch - 10ms/step\n",
      "Epoch 49/50\n",
      "7/7 - 0s - loss: 0.0830 - val_loss: 0.0598 - 69ms/epoch - 10ms/step\n",
      "Epoch 50/50\n",
      "7/7 - 0s - loss: 0.0826 - val_loss: 0.0598 - 71ms/epoch - 10ms/step\n"
     ]
    }
   ],
   "source": [
    "history = model.fit(train_X, train_y, epochs=50, batch_size=72, validation_data=(test_X, test_y), verbose=2, shuffle=False)"
   ]
  },
  {
   "cell_type": "code",
   "execution_count": 133,
   "id": "acfe4ebe",
   "metadata": {},
   "outputs": [
    {
     "data": {
      "image/png": "[encoded data removed]",
      "text/plain": [
       "<Figure size 576x216 with 1 Axes>"
      ]
     },
     "metadata": {},
     "output_type": "display_data"
    }
   ],
   "source": [
    "pyplot.plot(history.history['loss'], label='train')\n",
    "pyplot.plot(history.history['val_loss'], label='test')\n",
    "pyplot.legend()\n",
    "pyplot.show()"
   ]
  },
  {
   "cell_type": "markdown",
   "id": "94f9cf32",
   "metadata": {},
   "source": [
    "## Prediction and evaluation"
   ]
  },
  {
   "cell_type": "code",
   "execution_count": 134,
   "id": "0a6bb2ba",
   "metadata": {},
   "outputs": [
    {
     "data": {
      "text/plain": [
       "8"
      ]
     },
     "execution_count": 134,
     "metadata": {},
     "output_type": "execute_result"
    }
   ],
   "source": [
    "test_X.shape[0]\n",
    "test_X.shape[2]"
   ]
  },
  {
   "cell_type": "code",
   "execution_count": 135,
   "id": "4ce52477",
   "metadata": {},
   "outputs": [],
   "source": [
    "# prediction\n",
    "yhat = model.predict(test_X)\n",
    "test_X = test_X.reshape((test_X.shape[0], test_X.shape[2]))"
   ]
  },
  {
   "cell_type": "code",
   "execution_count": 136,
   "id": "ceb4fa55",
   "metadata": {},
   "outputs": [
    {
     "data": {
      "text/plain": [
       "(208, 1)"
      ]
     },
     "execution_count": 136,
     "metadata": {},
     "output_type": "execute_result"
    }
   ],
   "source": [
    "yhat.shape\n",
    "#test_X[:,1:].shape\n",
    "#inv_yhat.shape\n",
    "test_X[:, 1:].shape\n",
    "yhat.shape"
   ]
  },
  {
   "cell_type": "code",
   "execution_count": 137,
   "id": "3702af6f",
   "metadata": {},
   "outputs": [],
   "source": [
    "# invert scaling for forecast\n",
    "inv_yhat = np.concatenate((yhat, test_X[:, 1:]), axis=1)"
   ]
  },
  {
   "cell_type": "code",
   "execution_count": 138,
   "id": "50c9c9d6",
   "metadata": {},
   "outputs": [],
   "source": [
    "inv_yhat = scaler.inverse_transform(inv_yhat)\n",
    "inv_yhat = inv_yhat[:,0]"
   ]
  },
  {
   "cell_type": "code",
   "execution_count": 139,
   "id": "feaeb2bc",
   "metadata": {},
   "outputs": [],
   "source": [
    "# invert scaling for actual\n",
    "inv_y = scaler.inverse_transform(test_X)\n",
    "inv_y = inv_y[:,0]"
   ]
  },
  {
   "cell_type": "code",
   "execution_count": 140,
   "id": "c31960aa",
   "metadata": {},
   "outputs": [
    {
     "data": {
      "text/plain": [
       "(208,)"
      ]
     },
     "execution_count": 140,
     "metadata": {},
     "output_type": "execute_result"
    }
   ],
   "source": [
    "inv_yhat.shape"
   ]
  },
  {
   "cell_type": "code",
   "execution_count": 143,
   "id": "d2b0959f",
   "metadata": {},
   "outputs": [],
   "source": [
    "# create a dataframe for prediction plot\n",
    "df_plot = pd.DataFrame()\n",
    "df_plot['date'] = df.index[-208:]\n",
    "df_plot['predict'] = inv_yhat\n",
    "df_plot['test'] = inv_y\n",
    "df_plot.index = df_plot['date'] \n",
    "df_plot.drop(columns=['date'],inplace=True)"
   ]
  },
  {
   "cell_type": "code",
   "execution_count": 144,
   "id": "5fd0e7a5",
   "metadata": {},
   "outputs": [
    {
     "data": {
      "text/html": [
       "<div>\n",
       "<style scoped>\n",
       "    .dataframe tbody tr th:only-of-type {\n",
       "        vertical-align: middle;\n",
       "    }\n",
       "\n",
       "    .dataframe tbody tr th {\n",
       "        vertical-align: top;\n",
       "    }\n",
       "\n",
       "    .dataframe thead th {\n",
       "        text-align: right;\n",
       "    }\n",
       "</style>\n",
       "<table border=\"1\" class=\"dataframe\">\n",
       "  <thead>\n",
       "    <tr style=\"text-align: right;\">\n",
       "      <th></th>\n",
       "      <th>predict</th>\n",
       "      <th>test</th>\n",
       "    </tr>\n",
       "    <tr>\n",
       "      <th>date</th>\n",
       "      <th></th>\n",
       "      <th></th>\n",
       "    </tr>\n",
       "  </thead>\n",
       "  <tbody>\n",
       "    <tr>\n",
       "      <th>1977536</th>\n",
       "      <td>70.405334</td>\n",
       "      <td>88.000000</td>\n",
       "    </tr>\n",
       "    <tr>\n",
       "      <th>1977537</th>\n",
       "      <td>40.254208</td>\n",
       "      <td>46.000004</td>\n",
       "    </tr>\n",
       "    <tr>\n",
       "      <th>1977538</th>\n",
       "      <td>42.183750</td>\n",
       "      <td>46.000004</td>\n",
       "    </tr>\n",
       "    <tr>\n",
       "      <th>1977539</th>\n",
       "      <td>59.909401</td>\n",
       "      <td>67.000000</td>\n",
       "    </tr>\n",
       "    <tr>\n",
       "      <th>1977540</th>\n",
       "      <td>42.281551</td>\n",
       "      <td>46.000004</td>\n",
       "    </tr>\n",
       "    <tr>\n",
       "      <th>...</th>\n",
       "      <td>...</td>\n",
       "      <td>...</td>\n",
       "    </tr>\n",
       "    <tr>\n",
       "      <th>1977739</th>\n",
       "      <td>81.422943</td>\n",
       "      <td>72.000000</td>\n",
       "    </tr>\n",
       "    <tr>\n",
       "      <th>1977740</th>\n",
       "      <td>60.161980</td>\n",
       "      <td>41.999996</td>\n",
       "    </tr>\n",
       "    <tr>\n",
       "      <th>1977741</th>\n",
       "      <td>67.488182</td>\n",
       "      <td>54.000004</td>\n",
       "    </tr>\n",
       "    <tr>\n",
       "      <th>1977742</th>\n",
       "      <td>80.573372</td>\n",
       "      <td>70.000000</td>\n",
       "    </tr>\n",
       "    <tr>\n",
       "      <th>1977743</th>\n",
       "      <td>87.368706</td>\n",
       "      <td>77.000000</td>\n",
       "    </tr>\n",
       "  </tbody>\n",
       "</table>\n",
       "<p>208 rows × 2 columns</p>\n",
       "</div>"
      ],
      "text/plain": [
       "           predict       test\n",
       "date                         \n",
       "1977536  70.405334  88.000000\n",
       "1977537  40.254208  46.000004\n",
       "1977538  42.183750  46.000004\n",
       "1977539  59.909401  67.000000\n",
       "1977540  42.281551  46.000004\n",
       "...            ...        ...\n",
       "1977739  81.422943  72.000000\n",
       "1977740  60.161980  41.999996\n",
       "1977741  67.488182  54.000004\n",
       "1977742  80.573372  70.000000\n",
       "1977743  87.368706  77.000000\n",
       "\n",
       "[208 rows x 2 columns]"
      ]
     },
     "execution_count": 144,
     "metadata": {},
     "output_type": "execute_result"
    }
   ],
   "source": [
    "df_plot"
   ]
  },
  {
   "cell_type": "code",
   "execution_count": 145,
   "id": "fce93061",
   "metadata": {},
   "outputs": [
    {
     "data": {
      "text/plain": [
       "490"
      ]
     },
     "execution_count": 145,
     "metadata": {},
     "output_type": "execute_result"
    }
   ],
   "source": [
    "train_X.shape[0]\n",
    "#len(mergeddf)"
   ]
  },
  {
   "cell_type": "code",
   "execution_count": 146,
   "id": "b74bfaeb",
   "metadata": {},
   "outputs": [
    {
     "data": {
      "image/png": "[encoded data removed]",
      "text/plain": [
       "<Figure size 576x216 with 1 Axes>"
      ]
     },
     "metadata": {},
     "output_type": "display_data"
    },
    {
     "data": {
      "image/png": "[encoded data removed]",
      "text/plain": [
       "<Figure size 576x216 with 1 Axes>"
      ]
     },
     "metadata": {},
     "output_type": "display_data"
    }
   ],
   "source": [
    "# we are using the inline backend\n",
    "%matplotlib inline \n",
    "\n",
    "import matplotlib as mpl\n",
    "import matplotlib.pyplot as plt\n",
    "#print(plt.style.available)\n",
    "mpl.style.use(['ggplot'])\n",
    "# Changin the formate of date from string to datetime\n",
    "from datetime import datetime\n",
    "date=[]\n",
    "for i in mergeddf.index[train_X.shape[0]:-1]:\n",
    "    date.append(datetime.strptime(i,'%Y-%m-%d'))\n",
    "# show comparision of prediction and test\n",
    "import matplotlib.dates as mdates\n",
    "plt.rcParams['figure.figsize'] = [8, 3]\n",
    "myFmt = mdates.DateFormatter('%Y-%m')\n",
    "# for Observed values\n",
    "fig, ax = plt.subplots()\n",
    "ax.plot(date,df_plot['test'],label='Observed')\n",
    "plt.legend(loc='upper center')\n",
    "ax.xaxis.set_major_formatter(myFmt)\n",
    "plt.gcf().autofmt_xdate()\n",
    "plt.xlabel('Date')\n",
    "plt.ylabel('Pm2.5 Concentration ($ug/m^3$)')\n",
    "plt.title('Observed values')\n",
    "fig.savefig('Observed.jpg', bbox_inches='tight', dpi=150)\n",
    "plt.show()\n",
    "# for Simulated values\n",
    "fig, ax = plt.subplots()\n",
    "ax.plot(date,df_plot['predict'],label= 'Simulated')\n",
    "plt.legend(loc='upper center')\n",
    "ax.xaxis.set_major_formatter(myFmt)\n",
    "plt.gcf().autofmt_xdate()\n",
    "plt.xlabel('Date')\n",
    "plt.ylabel('Pm2.5 Concentration ($ug/m^3$)')\n",
    "plt.title('Simulated values using LSTM model')\n",
    "fig.savefig('Simulated.jpg', bbox_inches='tight', dpi=150)\n",
    "plt.show()"
   ]
  },
  {
   "cell_type": "code",
   "execution_count": 147,
   "id": "72f970c8",
   "metadata": {},
   "outputs": [
    {
     "data": {
      "text/plain": [
       "10.219456"
      ]
     },
     "execution_count": 147,
     "metadata": {},
     "output_type": "execute_result"
    }
   ],
   "source": [
    "# calculate RMSE (Root Mean Squared Error)\n",
    "np.sqrt(mean_squared_error(inv_y, inv_yhat))"
   ]
  },
  {
   "cell_type": "code",
   "execution_count": 148,
   "id": "578df856",
   "metadata": {},
   "outputs": [],
   "source": [
    "# normalized Root Mean Squared Error\n",
    "NRSME= np.sqrt(mean_squared_error(inv_y, inv_yhat))/(max(mergeddf['pm25'])-min(mergeddf['pm25']))"
   ]
  },
  {
   "cell_type": "code",
   "execution_count": 149,
   "id": "a34a451c",
   "metadata": {},
   "outputs": [
    {
     "data": {
      "text/plain": [
       "0.059071998375688675"
      ]
     },
     "execution_count": 149,
     "metadata": {},
     "output_type": "execute_result"
    }
   ],
   "source": [
    "NRSME"
   ]
  },
  {
   "cell_type": "markdown",
   "id": "3823ca8f",
   "metadata": {},
   "source": [
    "## Regression Plot"
   ]
  },
  {
   "cell_type": "markdown",
   "id": "c1afaf27",
   "metadata": {},
   "source": [
    "This plot will show a combination of a scattered data points (a scatterplot), as well as the fitted linear regression line going through the data. This will give us a reasonable estimate of the relationship between the two variables, the strength of the correlation, as well as the direction (positive or negative correlation)."
   ]
  },
  {
   "cell_type": "code",
   "execution_count": 150,
   "id": "7182fe4a",
   "metadata": {},
   "outputs": [
    {
     "data": {
      "image/png": "[encoded data removed]",
      "text/plain": [
       "<Figure size 504x288 with 1 Axes>"
      ]
     },
     "metadata": {},
     "output_type": "display_data"
    }
   ],
   "source": [
    "fig = plt.figure(figsize=(7,4))\n",
    "sb.regplot(x=\"predict\", y=\"test\", data=df_plot)\n",
    "plt.title('Regression Plot')\n",
    "plt.xlabel('Simulated Pm2.5')\n",
    "plt.ylabel('Observed Pm2.5')\n",
    "fig.savefig('Regression plot1.jpg', bbox_inches='tight', dpi=150)\n",
    "plt.show()"
   ]
  },
  {
   "cell_type": "code",
   "execution_count": 151,
   "id": "32275b3d",
   "metadata": {},
   "outputs": [
    {
     "data": {
      "text/html": [
       "<div>\n",
       "<style scoped>\n",
       "    .dataframe tbody tr th:only-of-type {\n",
       "        vertical-align: middle;\n",
       "    }\n",
       "\n",
       "    .dataframe tbody tr th {\n",
       "        vertical-align: top;\n",
       "    }\n",
       "\n",
       "    .dataframe thead th {\n",
       "        text-align: right;\n",
       "    }\n",
       "</style>\n",
       "<table border=\"1\" class=\"dataframe\">\n",
       "  <thead>\n",
       "    <tr style=\"text-align: right;\">\n",
       "      <th></th>\n",
       "      <th>predict</th>\n",
       "      <th>test</th>\n",
       "    </tr>\n",
       "  </thead>\n",
       "  <tbody>\n",
       "    <tr>\n",
       "      <th>predict</th>\n",
       "      <td>1.000000</td>\n",
       "      <td>0.857419</td>\n",
       "    </tr>\n",
       "    <tr>\n",
       "      <th>test</th>\n",
       "      <td>0.857419</td>\n",
       "      <td>1.000000</td>\n",
       "    </tr>\n",
       "  </tbody>\n",
       "</table>\n",
       "</div>"
      ],
      "text/plain": [
       "          predict      test\n",
       "predict  1.000000  0.857419\n",
       "test     0.857419  1.000000"
      ]
     },
     "execution_count": 151,
     "metadata": {},
     "output_type": "execute_result"
    }
   ],
   "source": [
    "df_plot.corr()"
   ]
  },
  {
   "cell_type": "code",
   "execution_count": 152,
   "id": "1a8f5a0b",
   "metadata": {},
   "outputs": [
    {
     "data": {
      "text/plain": [
       "104.43727"
      ]
     },
     "execution_count": 152,
     "metadata": {},
     "output_type": "execute_result"
    }
   ],
   "source": [
    "from sklearn.metrics import mean_squared_error\n",
    "mse = mean_squared_error(inv_y, inv_yhat)\n",
    "mse"
   ]
  },
  {
   "cell_type": "code",
   "execution_count": 153,
   "id": "0fdb40c2",
   "metadata": {},
   "outputs": [
    {
     "data": {
      "text/plain": [
       "0.7057294744176277"
      ]
     },
     "execution_count": 153,
     "metadata": {},
     "output_type": "execute_result"
    }
   ],
   "source": [
    "from sklearn.metrics import r2_score\n",
    "r_squared = r2_score(inv_y, inv_yhat)\n",
    "r_squared"
   ]
  },
  {
   "cell_type": "code",
   "execution_count": 154,
   "id": "3bd648b5",
   "metadata": {},
   "outputs": [
    {
     "data": {
      "image/png": "[encoded data removed]",
      "text/plain": [
       "<Figure size 576x216 with 1 Axes>"
      ]
     },
     "metadata": {},
     "output_type": "display_data"
    }
   ],
   "source": [
    "from sklearn.ensemble import RandomForestRegressor\n",
    "reg = RandomForestRegressor()\n",
    "reg.fit(mergeddf.iloc[:,1:],mergeddf.iloc[:,0])\n",
    "features = mergeddf.columns\n",
    "importances = reg.feature_importances_\n",
    "indices = np.argsort(importances)\n",
    "plt.title('Feature Importances')\n",
    "plt.barh(range(len(indices)), importances[indices], color='#8f63f4', align='center')\n",
    "plt.yticks(range(len(indices)), features[indices])\n",
    "plt.xlabel('Relative Importance')\n",
    "plt.show()"
   ]
  },
  {
   "cell_type": "code",
   "execution_count": 155,
   "id": "c89979b8",
   "metadata": {},
   "outputs": [
    {
     "data": {
      "image/png": "[encoded data removed]",
      "text/plain": [
       "<Figure size 576x216 with 1 Axes>"
      ]
     },
     "metadata": {},
     "output_type": "display_data"
    }
   ],
   "source": [
    "reg = RandomForestRegressor()\n",
    "reg.fit(mergeddf.iloc[:,1:],mergeddf.iloc[:,0])\n",
    "features = mergeddf.columns\n",
    "importances = reg.feature_importances_\n",
    "indices = np.argsort(importances)\n",
    "\n",
    "plt.title('Feature Importances')\n",
    "plt.barh(range(len(indices)), importances[indices], color='#8f63f4', align='center')\n",
    "plt.yticks(range(len(indices)), features[indices])\n",
    "plt.xlabel('Relative Importance')\n",
    "plt.show()"
   ]
  },
  {
   "cell_type": "code",
   "execution_count": 156,
   "id": "b1916a52",
   "metadata": {},
   "outputs": [
    {
     "data": {
      "text/html": [
       "<div>\n",
       "<style scoped>\n",
       "    .dataframe tbody tr th:only-of-type {\n",
       "        vertical-align: middle;\n",
       "    }\n",
       "\n",
       "    .dataframe tbody tr th {\n",
       "        vertical-align: top;\n",
       "    }\n",
       "\n",
       "    .dataframe thead th {\n",
       "        text-align: right;\n",
       "    }\n",
       "</style>\n",
       "<table border=\"1\" class=\"dataframe\">\n",
       "  <thead>\n",
       "    <tr style=\"text-align: right;\">\n",
       "      <th></th>\n",
       "      <th>pm25</th>\n",
       "      <th>pm1</th>\n",
       "      <th>pm10</th>\n",
       "      <th>dew</th>\n",
       "      <th>humidity</th>\n",
       "      <th>temperature</th>\n",
       "      <th>pressure</th>\n",
       "      <th>wind-speed</th>\n",
       "    </tr>\n",
       "    <tr>\n",
       "      <th>Date</th>\n",
       "      <th></th>\n",
       "      <th></th>\n",
       "      <th></th>\n",
       "      <th></th>\n",
       "      <th></th>\n",
       "      <th></th>\n",
       "      <th></th>\n",
       "      <th></th>\n",
       "    </tr>\n",
       "  </thead>\n",
       "  <tbody>\n",
       "    <tr>\n",
       "      <th>2019-12-30</th>\n",
       "      <td>55.0</td>\n",
       "      <td>55.0</td>\n",
       "      <td>1.0</td>\n",
       "      <td>2.0</td>\n",
       "      <td>60.0</td>\n",
       "      <td>1.1</td>\n",
       "      <td>1020.0</td>\n",
       "      <td>0.4</td>\n",
       "    </tr>\n",
       "    <tr>\n",
       "      <th>2019-12-31</th>\n",
       "      <td>74.0</td>\n",
       "      <td>69.0</td>\n",
       "      <td>33.0</td>\n",
       "      <td>0.0</td>\n",
       "      <td>0.0</td>\n",
       "      <td>0.0</td>\n",
       "      <td>0.0</td>\n",
       "      <td>0.0</td>\n",
       "    </tr>\n",
       "    <tr>\n",
       "      <th>2020-01-01</th>\n",
       "      <td>62.0</td>\n",
       "      <td>60.0</td>\n",
       "      <td>25.0</td>\n",
       "      <td>0.0</td>\n",
       "      <td>0.0</td>\n",
       "      <td>0.0</td>\n",
       "      <td>0.0</td>\n",
       "      <td>0.0</td>\n",
       "    </tr>\n",
       "    <tr>\n",
       "      <th>2020-01-02</th>\n",
       "      <td>74.0</td>\n",
       "      <td>70.0</td>\n",
       "      <td>27.0</td>\n",
       "      <td>0.0</td>\n",
       "      <td>0.0</td>\n",
       "      <td>0.0</td>\n",
       "      <td>0.0</td>\n",
       "      <td>0.0</td>\n",
       "    </tr>\n",
       "    <tr>\n",
       "      <th>2020-01-03</th>\n",
       "      <td>68.0</td>\n",
       "      <td>67.0</td>\n",
       "      <td>21.0</td>\n",
       "      <td>5.0</td>\n",
       "      <td>81.0</td>\n",
       "      <td>6.0</td>\n",
       "      <td>1020.0</td>\n",
       "      <td>0.4</td>\n",
       "    </tr>\n",
       "    <tr>\n",
       "      <th>...</th>\n",
       "      <td>...</td>\n",
       "      <td>...</td>\n",
       "      <td>...</td>\n",
       "      <td>...</td>\n",
       "      <td>...</td>\n",
       "      <td>...</td>\n",
       "      <td>...</td>\n",
       "      <td>...</td>\n",
       "    </tr>\n",
       "    <tr>\n",
       "      <th>2021-12-19</th>\n",
       "      <td>42.0</td>\n",
       "      <td>50.0</td>\n",
       "      <td>19.0</td>\n",
       "      <td>3.0</td>\n",
       "      <td>40.1</td>\n",
       "      <td>4.0</td>\n",
       "      <td>1018.0</td>\n",
       "      <td>0.3</td>\n",
       "    </tr>\n",
       "    <tr>\n",
       "      <th>2021-12-20</th>\n",
       "      <td>54.0</td>\n",
       "      <td>52.0</td>\n",
       "      <td>18.0</td>\n",
       "      <td>2.0</td>\n",
       "      <td>37.0</td>\n",
       "      <td>3.5</td>\n",
       "      <td>1019.0</td>\n",
       "      <td>0.3</td>\n",
       "    </tr>\n",
       "    <tr>\n",
       "      <th>2021-12-21</th>\n",
       "      <td>70.0</td>\n",
       "      <td>71.0</td>\n",
       "      <td>29.0</td>\n",
       "      <td>0.0</td>\n",
       "      <td>27.4</td>\n",
       "      <td>3.5</td>\n",
       "      <td>1017.0</td>\n",
       "      <td>0.3</td>\n",
       "    </tr>\n",
       "    <tr>\n",
       "      <th>2021-12-22</th>\n",
       "      <td>77.0</td>\n",
       "      <td>65.0</td>\n",
       "      <td>37.0</td>\n",
       "      <td>-1.5</td>\n",
       "      <td>27.0</td>\n",
       "      <td>3.0</td>\n",
       "      <td>1015.0</td>\n",
       "      <td>0.3</td>\n",
       "    </tr>\n",
       "    <tr>\n",
       "      <th>2021-12-23</th>\n",
       "      <td>117.0</td>\n",
       "      <td>104.0</td>\n",
       "      <td>42.0</td>\n",
       "      <td>0.0</td>\n",
       "      <td>31.0</td>\n",
       "      <td>4.0</td>\n",
       "      <td>1016.5</td>\n",
       "      <td>0.3</td>\n",
       "    </tr>\n",
       "  </tbody>\n",
       "</table>\n",
       "<p>699 rows × 8 columns</p>\n",
       "</div>"
      ],
      "text/plain": [
       "             pm25    pm1  pm10  dew  humidity  temperature  pressure  \\\n",
       "Date                                                                   \n",
       "2019-12-30   55.0   55.0   1.0  2.0      60.0          1.1    1020.0   \n",
       "2019-12-31   74.0   69.0  33.0  0.0       0.0          0.0       0.0   \n",
       "2020-01-01   62.0   60.0  25.0  0.0       0.0          0.0       0.0   \n",
       "2020-01-02   74.0   70.0  27.0  0.0       0.0          0.0       0.0   \n",
       "2020-01-03   68.0   67.0  21.0  5.0      81.0          6.0    1020.0   \n",
       "...           ...    ...   ...  ...       ...          ...       ...   \n",
       "2021-12-19   42.0   50.0  19.0  3.0      40.1          4.0    1018.0   \n",
       "2021-12-20   54.0   52.0  18.0  2.0      37.0          3.5    1019.0   \n",
       "2021-12-21   70.0   71.0  29.0  0.0      27.4          3.5    1017.0   \n",
       "2021-12-22   77.0   65.0  37.0 -1.5      27.0          3.0    1015.0   \n",
       "2021-12-23  117.0  104.0  42.0  0.0      31.0          4.0    1016.5   \n",
       "\n",
       "            wind-speed  \n",
       "Date                    \n",
       "2019-12-30         0.4  \n",
       "2019-12-31         0.0  \n",
       "2020-01-01         0.0  \n",
       "2020-01-02         0.0  \n",
       "2020-01-03         0.4  \n",
       "...                ...  \n",
       "2021-12-19         0.3  \n",
       "2021-12-20         0.3  \n",
       "2021-12-21         0.3  \n",
       "2021-12-22         0.3  \n",
       "2021-12-23         0.3  \n",
       "\n",
       "[699 rows x 8 columns]"
      ]
     },
     "execution_count": 156,
     "metadata": {},
     "output_type": "execute_result"
    }
   ],
   "source": [
    "mergeddf"
   ]
  },
  {
   "cell_type": "code",
   "execution_count": null,
   "id": "7283b17e",
   "metadata": {},
   "outputs": [],
   "source": []
  },
  {
   "cell_type": "code",
   "execution_count": null,
   "id": "47f52ddc",
   "metadata": {},
   "outputs": [],
   "source": []
  },
  {
   "cell_type": "code",
   "execution_count": null,
   "id": "09896f00",
   "metadata": {},
   "outputs": [],
   "source": []
  }
 ],
 "metadata": {
  "kernelspec": {
   "display_name": "Python 3 (ipykernel)",
   "language": "python",
   "name": "python3"
  },
  "language_info": {
   "codemirror_mode": {
    "name": "ipython",
    "version": 3
   },
   "file_extension": ".py",
   "mimetype": "text/x-python",
   "name": "python",
   "nbconvert_exporter": "python",
   "pygments_lexer": "ipython3",
   "version": "3.9.7"
  }
 },
 "nbformat": 4,
 "nbformat_minor": 5
}
